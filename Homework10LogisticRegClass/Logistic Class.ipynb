{
 "cells": [
  {
   "cell_type": "code",
   "execution_count": 1,
   "metadata": {},
   "outputs": [],
   "source": [
    "import numpy as np\n",
    "import matplotlib.pyplot as plt\n",
    "import pandas as pd\n",
    "%matplotlib inline"
   ]
  },
  {
   "cell_type": "code",
   "execution_count": 2,
   "metadata": {},
   "outputs": [],
   "source": [
    "class logistic:\n",
    "    \n",
    "    def sigmoid(self, h):\n",
    "        return 1/(1 + np.exp(-h))\n",
    "    \n",
    "    def cross_entropy(self,y,p_hat):\n",
    "        return -np.sum(y * np.log(p_hat) + (1 - y) * np.log(1 - p_hat))\n",
    "    \n",
    "    def accuracy(self, y, p_hat):\n",
    "        acc=np.mean(y == np.round(p_hat))\n",
    "        return acc\n",
    "    \n",
    "    def fit(self,X,y,lambda1=0,lambda2=0, eta = 1e-4, epochs = int(1e4),show_curve = False): #Fits model\n",
    "       \n",
    "        N,D=X.shape\n",
    "        if len(y.shape) > 1:\n",
    "            K=y.shape[1]\n",
    "        else:\n",
    "            K = 1\n",
    "            \n",
    "        self.w = np.random.randn(D,K)\n",
    "    \n",
    "        J = [0]*epochs\n",
    "        \n",
    "        \n",
    "        for epoch in range(epochs):\n",
    "            p_hat = self.sigmoid(X.dot(self.w))\n",
    "            J[epoch] = self.cross_entropy(y,p_hat) + lambda1*np.sum(np.abs(self.w))\n",
    "            self.w -= eta * X.T.dot(p_hat - y) + lambda1*np.sign(self.w)+lambda2*self.w\n",
    "            \n",
    "        if show_curve:\n",
    "            plt.figure()\n",
    "            plt.plot(J)\n",
    "            plt.xlabel(\"epochs\")\n",
    "            plt.ylabel(\"J\")\n",
    "    \n",
    "    def predict(self, X):                #Predicts with new data\n",
    "        p_hat = self.sigmoid(X.dot(self.w))\n",
    "        return p_hat\n",
    "    \n",
    "    \n",
    "    def print_acc(self,X):             #Gets accuracy\n",
    "        assert not hasattr(self,'w'), \"need to fit model first\" \n",
    "        p_hat = self.sigmoid(X.dot(self.w))\n",
    "        print(\"Accuracy: {:0.4f}\".format(self.accuracy(y,p_hat)))"
   ]
  },
  {
   "cell_type": "code",
   "execution_count": 3,
   "metadata": {},
   "outputs": [
    {
     "data": {
      "text/html": [
       "<div>\n",
       "<style scoped>\n",
       "    .dataframe tbody tr th:only-of-type {\n",
       "        vertical-align: middle;\n",
       "    }\n",
       "\n",
       "    .dataframe tbody tr th {\n",
       "        vertical-align: top;\n",
       "    }\n",
       "\n",
       "    .dataframe thead th {\n",
       "        text-align: right;\n",
       "    }\n",
       "</style>\n",
       "<table border=\"1\" class=\"dataframe\">\n",
       "  <thead>\n",
       "    <tr style=\"text-align: right;\">\n",
       "      <th></th>\n",
       "      <th>x1</th>\n",
       "      <th>x2</th>\n",
       "      <th>y</th>\n",
       "    </tr>\n",
       "  </thead>\n",
       "  <tbody>\n",
       "    <tr>\n",
       "      <th>0</th>\n",
       "      <td>1.907567</td>\n",
       "      <td>0.325865</td>\n",
       "      <td>0</td>\n",
       "    </tr>\n",
       "    <tr>\n",
       "      <th>1</th>\n",
       "      <td>2.270544</td>\n",
       "      <td>2.258817</td>\n",
       "      <td>0</td>\n",
       "    </tr>\n",
       "    <tr>\n",
       "      <th>2</th>\n",
       "      <td>2.323086</td>\n",
       "      <td>1.466601</td>\n",
       "      <td>0</td>\n",
       "    </tr>\n",
       "    <tr>\n",
       "      <th>3</th>\n",
       "      <td>0.752419</td>\n",
       "      <td>2.684305</td>\n",
       "      <td>0</td>\n",
       "    </tr>\n",
       "    <tr>\n",
       "      <th>4</th>\n",
       "      <td>2.837229</td>\n",
       "      <td>2.238149</td>\n",
       "      <td>0</td>\n",
       "    </tr>\n",
       "    <tr>\n",
       "      <th>5</th>\n",
       "      <td>1.758979</td>\n",
       "      <td>3.873314</td>\n",
       "      <td>0</td>\n",
       "    </tr>\n",
       "    <tr>\n",
       "      <th>6</th>\n",
       "      <td>-0.153115</td>\n",
       "      <td>2.294020</td>\n",
       "      <td>0</td>\n",
       "    </tr>\n",
       "    <tr>\n",
       "      <th>7</th>\n",
       "      <td>3.385935</td>\n",
       "      <td>1.058756</td>\n",
       "      <td>0</td>\n",
       "    </tr>\n",
       "    <tr>\n",
       "      <th>8</th>\n",
       "      <td>1.981424</td>\n",
       "      <td>3.041335</td>\n",
       "      <td>0</td>\n",
       "    </tr>\n",
       "    <tr>\n",
       "      <th>9</th>\n",
       "      <td>1.242928</td>\n",
       "      <td>-0.075891</td>\n",
       "      <td>0</td>\n",
       "    </tr>\n",
       "  </tbody>\n",
       "</table>\n",
       "</div>"
      ],
      "text/plain": [
       "         x1        x2  y\n",
       "0  1.907567  0.325865  0\n",
       "1  2.270544  2.258817  0\n",
       "2  2.323086  1.466601  0\n",
       "3  0.752419  2.684305  0\n",
       "4  2.837229  2.238149  0\n",
       "5  1.758979  3.873314  0\n",
       "6 -0.153115  2.294020  0\n",
       "7  3.385935  1.058756  0\n",
       "8  1.981424  3.041335  0\n",
       "9  1.242928 -0.075891  0"
      ]
     },
     "execution_count": 3,
     "metadata": {},
     "output_type": "execute_result"
    }
   ],
   "source": [
    "data = pd.read_csv(\"/home/techfield/class/Homework8_logistic/xor.csv\") \n",
    "data[:10]"
   ]
  },
  {
   "cell_type": "code",
   "execution_count": 4,
   "metadata": {},
   "outputs": [],
   "source": [
    "y = data.iloc[:,2]"
   ]
  },
  {
   "cell_type": "code",
   "execution_count": 5,
   "metadata": {},
   "outputs": [
    {
     "data": {
      "text/plain": [
       "4000"
      ]
     },
     "execution_count": 5,
     "metadata": {},
     "output_type": "execute_result"
    }
   ],
   "source": [
    "y = data.y.values.reshape([data.shape[0],1])\n",
    "y.shape[0]"
   ]
  },
  {
   "cell_type": "code",
   "execution_count": 6,
   "metadata": {},
   "outputs": [],
   "source": [
    "X_1 = data['x1']\n",
    "X_2 = data['x2']\n",
    "X_3 = X_1 * X_2"
   ]
  },
  {
   "cell_type": "code",
   "execution_count": 7,
   "metadata": {},
   "outputs": [],
   "source": [
    "data1 = np.column_stack((np.ones((4000,1)), X_1,X_2,X_3))"
   ]
  },
  {
   "cell_type": "code",
   "execution_count": 8,
   "metadata": {},
   "outputs": [],
   "source": [
    "X = data1"
   ]
  },
  {
   "cell_type": "code",
   "execution_count": 9,
   "metadata": {},
   "outputs": [],
   "source": [
    "l = logistic()"
   ]
  },
  {
   "cell_type": "code",
   "execution_count": 11,
   "metadata": {},
   "outputs": [
    {
     "data": {
      "image/png": "[encoded data removed]",
      "text/plain": [
       "<Figure size 432x288 with 1 Axes>"
      ]
     },
     "metadata": {
      "needs_background": "light"
     },
     "output_type": "display_data"
    }
   ],
   "source": [
    "l.fit(X,y,show_curve=True)"
   ]
  },
  {
   "cell_type": "code",
   "execution_count": 12,
   "metadata": {},
   "outputs": [
    {
     "name": "stdout",
     "output_type": "stream",
     "text": [
      "Accuracy: 0.9565\n"
     ]
    }
   ],
   "source": [
    "l.print_acc(X)"
   ]
  }
 ],
 "metadata": {
  "kernelspec": {
   "display_name": "Python 3",
   "language": "python",
   "name": "python3"
  },
  "language_info": {
   "codemirror_mode": {
    "name": "ipython",
    "version": 3
   },
   "file_extension": ".py",
   "mimetype": "text/x-python",
   "name": "python",
   "nbconvert_exporter": "python",
   "pygments_lexer": "ipython3",
   "version": "3.5.2"
  }
 },
 "nbformat": 4,
 "nbformat_minor": 2
}
