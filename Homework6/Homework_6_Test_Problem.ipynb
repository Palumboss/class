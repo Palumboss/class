{
 "cells": [
  {
   "cell_type": "code",
   "execution_count": 1,
   "metadata": {},
   "outputs": [],
   "source": [
    "import numpy as np\n",
    "import matplotlib.pyplot as plt\n",
    "%matplotlib inline"
   ]
  },
  {
   "cell_type": "code",
   "execution_count": 20,
   "metadata": {},
   "outputs": [],
   "source": [
    "#Set up random set\n",
    "\n",
    "N = 30\n",
    "\n",
    "x1 = np.linspace(0,10,N)\n",
    "\n",
    "X = np.column_stack((np.ones((N,1)),x1,x1**2,np.sqrt(x1)))\n",
    "W_true = np.array([2.974, 8.2928, 1.23748,4.3478,3.5689,2.643,6.1065,3.5786]).reshape(4,2)\n",
    "Y = X.dot(W_true) + np.random.randn(N,2) * 20"
   ]
  },
  {
   "cell_type": "code",
   "execution_count": 21,
   "metadata": {},
   "outputs": [
    {
     "data": {
      "text/plain": [
       "array([[ -3.61263528,  32.69839782],\n",
       "       [  2.31808731,  33.03018796],\n",
       "       [  3.21878505,   1.32455883],\n",
       "       [ 14.15228938, -57.74426425]])"
      ]
     },
     "execution_count": 21,
     "metadata": {},
     "output_type": "execute_result"
    }
   ],
   "source": [
    "#Find w\n",
    "\n",
    "\n",
    "w = np.linalg.solve(X.T.dot(X), X.T.dot(Y))\n",
    "w"
   ]
  },
  {
   "cell_type": "code",
   "execution_count": 22,
   "metadata": {},
   "outputs": [
    {
     "data": {
      "text/plain": [
       "array([[ -3.61263528,  32.69839782],\n",
       "       [  5.87994871,  10.33701635],\n",
       "       [ 11.2698145 ,   8.15382876],\n",
       "       [ 16.62421002,   9.55362327],\n",
       "       [ 22.32947647,  12.96004794],\n",
       "       [ 28.53525987,  17.76251611],\n",
       "       [ 35.31830781,  23.64788177],\n",
       "       [ 42.72421188,  30.43012184],\n",
       "       [ 50.78267752,  37.98803197],\n",
       "       [ 59.51433819,  46.23742335],\n",
       "       [ 68.934217  ,  55.11699861],\n",
       "       [ 79.05365518,  64.58048319],\n",
       "       [ 89.88146374,  74.59192635],\n",
       "       [101.42464961,  85.12273838],\n",
       "       [113.68889399,  96.14973882],\n",
       "       [126.67887898, 107.65382368],\n",
       "       [140.39851756, 119.6190272 ],\n",
       "       [154.85111963, 132.03184437],\n",
       "       [170.03951461, 144.88073053],\n",
       "       [185.96614379, 158.1557247 ],\n",
       "       [202.633131  , 171.84816122],\n",
       "       [220.04233758, 185.95044545],\n",
       "       [238.19540566, 200.45587717],\n",
       "       [257.09379268, 215.35850972],\n",
       "       [276.73879923, 230.65303638],\n",
       "       [297.13159173, 246.33469797],\n",
       "       [318.27322102, 262.39920685],\n",
       "       [340.16463778, 278.84268401],\n",
       "       [362.80670543, 295.6616065 ],\n",
       "       [386.20021095, 312.85276336]])"
      ]
     },
     "execution_count": 22,
     "metadata": {},
     "output_type": "execute_result"
    }
   ],
   "source": [
    "#Find y_hat\n",
    "\n",
    "Y_hat = X.dot(w)\n",
    "Y_hat"
   ]
  },
  {
   "cell_type": "code",
   "execution_count": 23,
   "metadata": {
    "scrolled": true
   },
   "outputs": [
    {
     "data": {
      "text/plain": [
       "[0.9756314525214654, 0.9653654466271347]"
      ]
     },
     "execution_count": 23,
     "metadata": {},
     "output_type": "execute_result"
    }
   ],
   "source": [
    "#Finnally we will find our R^2\n",
    "\n",
    "\n",
    "def R2(Y,Y_hat):\n",
    "    return 1 - np.sum((Y-Y_hat)**2)/np.sum((Y-Y.mean())**2)\n",
    "R2_array=[]\n",
    "for k in range(2):\n",
    "    R2_array.append(R2(Y[:,k],Y_hat[:,k]))\n",
    "\n",
    "R2_array"
   ]
  },
  {
   "cell_type": "markdown",
   "metadata": {},
   "source": [
    "Your R^2 for Y_hat_1 [0.9756314525214654 and your R^2 for y_hat_2 is 0.9653654466271347]. This is pretty good. \n",
    "#(but I mean, I'm coming up with the data and random noise so of course it is)"
   ]
  },
  {
   "cell_type": "code",
   "execution_count": null,
   "metadata": {},
   "outputs": [],
   "source": []
  }
 ],
 "metadata": {
  "kernelspec": {
   "display_name": "Python 3",
   "language": "python",
   "name": "python3"
  },
  "language_info": {
   "codemirror_mode": {
    "name": "ipython",
    "version": 3
   },
   "file_extension": ".py",
   "mimetype": "text/x-python",
   "name": "python",
   "nbconvert_exporter": "python",
   "pygments_lexer": "ipython3",
   "version": "3.5.2"
  }
 },
 "nbformat": 4,
 "nbformat_minor": 2
}
