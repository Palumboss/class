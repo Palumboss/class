{
 "cells": [
  {
   "cell_type": "code",
   "execution_count": 1,
   "metadata": {},
   "outputs": [],
   "source": [
    "import numpy as np\n",
    "import matplotlib.pyplot as plt\n",
    "import pandas as pd\n",
    "from random import randrange\n",
    "%matplotlib inline"
   ]
  },
  {
   "cell_type": "code",
   "execution_count": 2,
   "metadata": {},
   "outputs": [],
   "source": [
    "Boston = pd.read_csv(\"/home/techfield/class/Presentations/Boston_Presentation/train.csv\")"
   ]
  },
  {
   "cell_type": "code",
   "execution_count": 3,
   "metadata": {},
   "outputs": [
    {
     "data": {
      "text/plain": [
       "(333, 15)"
      ]
     },
     "execution_count": 3,
     "metadata": {},
     "output_type": "execute_result"
    }
   ],
   "source": [
    "Boston.shape"
   ]
  },
  {
   "cell_type": "code",
   "execution_count": 4,
   "metadata": {},
   "outputs": [],
   "source": [
    "#chas and rad will be dummies, as chas is a 0 or 1 and rad is a code\n",
    "\n",
    "Boston = Boston.drop(columns = [\"ID\"])\n",
    "Boston = pd.get_dummies(Boston,columns = [\"chas\",\"rad\"])\n"
   ]
  },
  {
   "cell_type": "code",
   "execution_count": 5,
   "metadata": {},
   "outputs": [],
   "source": [
    "#Going to use Train-Validate-Test Model, so lets get our data from each\n",
    "\n",
    "seed = 10\n",
    "train1=Boston.sample(frac=.6,random_state = seed)\n",
    "training_target = train1['medv']\n",
    "train= train1.drop(\"medv\",axis=1)\n",
    "\n",
    "validate_test = Boston.loc[~Boston.index.isin(train1.index)]\n",
    "\n",
    "validate_origin = validate_test.sample(frac=.5,random_state = seed )\n",
    "validate1 = validate_origin.drop(\"medv\",axis=1)\n",
    "validate_target = validate_origin['medv']\n",
    "validate = validate1\n",
    "\n",
    "test = validate_test.loc[~validate_test.index.isin(validate_origin.index)]\n",
    "test_no_y = test.drop(\"medv\",axis=1)\n",
    "test_target = test['medv']"
   ]
  },
  {
   "cell_type": "code",
   "execution_count": 6,
   "metadata": {},
   "outputs": [
    {
     "data": {
      "text/plain": [
       "(67, 22)"
      ]
     },
     "execution_count": 6,
     "metadata": {},
     "output_type": "execute_result"
    }
   ],
   "source": [
    "test_no_y.shape"
   ]
  },
  {
   "cell_type": "code",
   "execution_count": 7,
   "metadata": {},
   "outputs": [
    {
     "data": {
      "text/plain": [
       "(66,)"
      ]
     },
     "execution_count": 7,
     "metadata": {},
     "output_type": "execute_result"
    }
   ],
   "source": [
    "validate_target.shape"
   ]
  },
  {
   "cell_type": "markdown",
   "metadata": {},
   "source": [
    "We will find our best hyperparameter L2"
   ]
  },
  {
   "cell_type": "code",
   "execution_count": 8,
   "metadata": {},
   "outputs": [],
   "source": [
    "#Training R2\n",
    "I_reg = np.identity(23)\n",
    "I_reg[0,0] = 0\n",
    "R2_old = 0\n",
    "\n",
    "for lambda2 in range(100):\n",
    "\n",
    "    X = np.column_stack((np.ones((200,1)),train)) #200 x 23 Matrix\n",
    "    y = training_target #size is (200,)\n",
    "    w = np.linalg.solve(X.T.dot(X) + lambda2*I_reg, X.T.dot(y)) #Our weights for testing on the test set\n",
    "    y_hat = X.dot(w)\n",
    "\n",
    "    R2 = 1 - np.sum((y-y_hat)**2)/np.sum((y-y.mean())**2) #Gets our R^2\n",
    " \n",
    "    \n",
    "    #Validate R_2\n",
    "    X = np.column_stack((np.ones((66,1)),validate)) #66 x 23 Matrix\n",
    "    y = validate_target #size is (66,)\n",
    "    y_hat = X.dot(w) #size is (66,)\n",
    "\n",
    "    R2 = 1 - np.sum((y-y_hat)**2)/np.sum((y-y.mean())**2) #Gets our R^2\n",
    "    if R2 > R2_old:\n",
    "        R2_old = R2\n",
    "        lambda2_real = lambda2"
   ]
  },
  {
   "cell_type": "code",
   "execution_count": 9,
   "metadata": {},
   "outputs": [
    {
     "data": {
      "text/plain": [
       "0.690344823906342"
      ]
     },
     "execution_count": 9,
     "metadata": {},
     "output_type": "execute_result"
    }
   ],
   "source": [
    "R2_old"
   ]
  },
  {
   "cell_type": "code",
   "execution_count": 10,
   "metadata": {},
   "outputs": [
    {
     "data": {
      "text/plain": [
       "0"
      ]
     },
     "execution_count": 10,
     "metadata": {},
     "output_type": "execute_result"
    }
   ],
   "source": [
    "lambda2_real"
   ]
  },
  {
   "cell_type": "markdown",
   "metadata": {},
   "source": [
    "#I tested a number of different lambda2 values just to make sure that my code wasn't messed up and giving e a 0 for my lambda 2 when it should have been a higher number, and a lambda of 0 was indeed what got me the highest R^2"
   ]
  },
  {
   "cell_type": "code",
   "execution_count": 11,
   "metadata": {},
   "outputs": [],
   "source": [
    "#Finnally, we will use the tset data set to find our final R^2"
   ]
  },
  {
   "cell_type": "code",
   "execution_count": 12,
   "metadata": {},
   "outputs": [
    {
     "data": {
      "text/plain": [
       "0.5751624776475857"
      ]
     },
     "execution_count": 12,
     "metadata": {},
     "output_type": "execute_result"
    }
   ],
   "source": [
    "X = np.column_stack((np.ones((67,1)),test_no_y)) #66 x 23 Matrix\n",
    "y = test_target #size is (66,)\n",
    "y_hat = X.dot(w) #size is (66,)\n",
    "R2 = 1 - np.sum((y-y_hat)**2)/np.sum((y-y.mean())**2) #Gets our R^2\n",
    "R2"
   ]
  },
  {
   "cell_type": "markdown",
   "metadata": {},
   "source": [
    "Our final R^2 is .575 which is a little lower than I would have liked. I could have used L1 regularization, but I was haing trouble getting my gradient to decend, so I had to use the anylytical solution, for which you can not use L1."
   ]
  },
  {
   "cell_type": "code",
   "execution_count": 13,
   "metadata": {},
   "outputs": [
    {
     "data": {
      "text/plain": [
       "array([ 3.75432676e+01, -5.53068023e-02,  5.26973299e-02, -3.99692530e-03,\n",
       "       -3.90747459e-02,  1.66862015e+00, -2.01632682e-02, -1.15798118e+00,\n",
       "       -4.46000073e-03, -7.07918237e-01,  1.00422540e-02, -6.98230657e-01,\n",
       "       -3.64016612e-01,  3.64016612e-01, -1.79888715e-01, -1.18161920e-01,\n",
       "        2.84576084e-01, -4.30395573e-01, -3.06853323e-02, -2.71913629e-01,\n",
       "        2.14534231e-01,  1.79157677e-01,  3.52777177e-01])"
      ]
     },
     "execution_count": 13,
     "metadata": {},
     "output_type": "execute_result"
    }
   ],
   "source": [
    "w"
   ]
  },
  {
   "cell_type": "code",
   "execution_count": 14,
   "metadata": {},
   "outputs": [
    {
     "data": {
      "text/plain": [
       "22"
      ]
     },
     "execution_count": 14,
     "metadata": {},
     "output_type": "execute_result"
    }
   ],
   "source": [
    "Bost_list = list(Boston)\n",
    "Bost_list.remove(\"medv\")\n",
    "len(Bost_list)"
   ]
  },
  {
   "cell_type": "code",
   "execution_count": 15,
   "metadata": {},
   "outputs": [
    {
     "data": {
      "text/plain": [
       "<function ndarray.tolist>"
      ]
     },
     "execution_count": 15,
     "metadata": {},
     "output_type": "execute_result"
    }
   ],
   "source": [
    "w=w.tolist\n",
    "w"
   ]
  },
  {
   "cell_type": "code",
   "execution_count": null,
   "metadata": {},
   "outputs": [],
   "source": []
  }
 ],
 "metadata": {
  "kernelspec": {
   "display_name": "Python 3",
   "language": "python",
   "name": "python3"
  },
  "language_info": {
   "codemirror_mode": {
    "name": "ipython",
    "version": 3
   },
   "file_extension": ".py",
   "mimetype": "text/x-python",
   "name": "python",
   "nbconvert_exporter": "python",
   "pygments_lexer": "ipython3",
   "version": "3.5.2"
  }
 },
 "nbformat": 4,
 "nbformat_minor": 2
}
