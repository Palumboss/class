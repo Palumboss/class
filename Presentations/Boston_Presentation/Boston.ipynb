{
 "cells": [
  {
   "cell_type": "code",
   "execution_count": 20,
   "metadata": {},
   "outputs": [],
   "source": [
    "import numpy as np\n",
    "import matplotlib.pyplot as plt\n",
    "from mpl_toolkits.mplot3d.axes3d import Axes3D\n",
    "import pandas as pd\n",
    "import os\n",
    "from sklearn import preprocessing\n",
    "%matplotlib inline"
   ]
  },
  {
   "cell_type": "code",
   "execution_count": 46,
   "metadata": {},
   "outputs": [],
   "source": [
    "Boston = pd.read_csv(\"/home/techfield/class/Presentations/Boston_Presentation/train.csv\")"
   ]
  },
  {
   "cell_type": "code",
   "execution_count": 66,
   "metadata": {},
   "outputs": [
    {
     "data": {
      "text/plain": [
       "(333, 22)"
      ]
     },
     "execution_count": 66,
     "metadata": {},
     "output_type": "execute_result"
    }
   ],
   "source": [
    "Boston.shape"
   ]
  },
  {
   "cell_type": "code",
   "execution_count": 48,
   "metadata": {},
   "outputs": [],
   "source": [
    "#chas and rad will be dummies, as chas is a 0 or 1 and rad is a code\n",
    "\n",
    "seed = 10\n",
    "target = Boston['medv']\n",
    "Boston = Boston.drop(columns = [\"ID\",\"medv\"])\n",
    "Boston = pd.get_dummies(Boston,columns = [\"chas\",\"rad\"])\n"
   ]
  },
  {
   "cell_type": "code",
   "execution_count": 62,
   "metadata": {},
   "outputs": [
    {
     "data": {
      "text/plain": [
       "(200, 22)"
      ]
     },
     "execution_count": 62,
     "metadata": {},
     "output_type": "execute_result"
    }
   ],
   "source": [
    "#k-fold cross-validation\n",
    "\n",
    "k=10\n"
   ]
  },
  {
   "cell_type": "code",
   "execution_count": 72,
   "metadata": {},
   "outputs": [
    {
     "data": {
      "text/plain": [
       "0.7902421541769571"
      ]
     },
     "execution_count": 72,
     "metadata": {},
     "output_type": "execute_result"
    }
   ],
   "source": [
    "X = np.column_stack((np.ones((200,1)),train)) #234 x 85 Matrix\n",
    "\n",
    "y = np.array(train_target)\n",
    "\n",
    "\n",
    "w = np.linalg.solve(X.T.dot(X), X.T.dot(y)) #Reshape y.reshape([N,1])\n",
    "y_hat = X.dot(w)\n",
    "\n",
    "\n",
    "R2 = 1 - np.sum((y-y_hat)**2)/np.sum((y-y.mean())**2) #Gets our R^2\n",
    "R2"
   ]
  },
  {
   "cell_type": "code",
   "execution_count": 82,
   "metadata": {},
   "outputs": [],
   "source": [
    "def OLS(y, y_hat):\n",
    "    return (y - y_hat).dot(y - y_hat)\n",
    "def R2(y, y_hat):\n",
    "    return 1 - (y - y_hat).dot(y - y_hat) / (y - y.mean()).dot(y - y.mean())"
   ]
  },
  {
   "cell_type": "code",
   "execution_count": 83,
   "metadata": {},
   "outputs": [
    {
     "data": {
      "text/plain": [
       "[<matplotlib.lines.Line2D at 0x7fdfd798fc50>]"
      ]
     },
     "execution_count": 83,
     "metadata": {},
     "output_type": "execute_result"
    },
    {
     "data": {
      "image/png": "[encoded data removed]",
      "text/plain": [
       "<Figure size 432x288 with 1 Axes>"
      ]
     },
     "metadata": {
      "needs_background": "light"
     },
     "output_type": "display_data"
    }
   ],
   "source": [
    "w = np.random.randn(23)\n",
    "\n",
    "J = []\n",
    "eta = 1e-10\n",
    "epochs = 1000000\n",
    "\n",
    "for t in range(epochs):\n",
    "    y_hat = X.dot(w)\n",
    "    J.append(OLS(y, y_hat))\n",
    "    w -= eta*X.T.dot(y_hat - y)\n",
    "    \n",
    "plt.figure()\n",
    "plt.plot(J)"
   ]
  },
  {
   "cell_type": "code",
   "execution_count": 84,
   "metadata": {},
   "outputs": [],
   "source": [
    "#y_hat"
   ]
  },
  {
   "cell_type": "code",
   "execution_count": 85,
   "metadata": {},
   "outputs": [
    {
     "data": {
      "text/plain": [
       "0.11552416701443602"
      ]
     },
     "execution_count": 85,
     "metadata": {},
     "output_type": "execute_result"
    }
   ],
   "source": [
    "R2(y,y_hat)"
   ]
  },
  {
   "cell_type": "code",
   "execution_count": null,
   "metadata": {},
   "outputs": [],
   "source": []
  }
 ],
 "metadata": {
  "kernelspec": {
   "display_name": "Python 3",
   "language": "python",
   "name": "python3"
  },
  "language_info": {
   "codemirror_mode": {
    "name": "ipython",
    "version": 3
   },
   "file_extension": ".py",
   "mimetype": "text/x-python",
   "name": "python",
   "nbconvert_exporter": "python",
   "pygments_lexer": "ipython3",
   "version": "3.5.2"
  }
 },
 "nbformat": 4,
 "nbformat_minor": 2
}
