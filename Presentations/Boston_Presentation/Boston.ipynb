{
 "cells": [
  {
   "cell_type": "code",
   "execution_count": 64,
   "metadata": {},
   "outputs": [],
   "source": [
    "import numpy as np\n",
    "import matplotlib.pyplot as plt\n",
    "import pandas as pd\n",
    "from random import randrange\n",
    "%matplotlib inline"
   ]
  },
  {
   "cell_type": "code",
   "execution_count": 65,
   "metadata": {},
   "outputs": [],
   "source": [
    "Boston = pd.read_csv(\"/home/techfield/class/Presentations/Boston_Presentation/train.csv\")"
   ]
  },
  {
   "cell_type": "code",
   "execution_count": 66,
   "metadata": {},
   "outputs": [
    {
     "data": {
      "text/plain": [
       "(333, 15)"
      ]
     },
     "execution_count": 66,
     "metadata": {},
     "output_type": "execute_result"
    }
   ],
   "source": [
    "Boston.shape"
   ]
  },
  {
   "cell_type": "code",
   "execution_count": 67,
   "metadata": {},
   "outputs": [],
   "source": [
    "#chas and rad will be dummies, as chas is a 0 or 1 and rad is a code\n",
    "\n",
    "Boston = Boston.drop(columns = [\"ID\"])\n",
    "Boston = pd.get_dummies(Boston,columns = [\"chas\",\"rad\"])\n"
   ]
  },
  {
   "cell_type": "code",
   "execution_count": 68,
   "metadata": {},
   "outputs": [],
   "source": [
    "#Going to use Train-Validate-Test Model, so lets get our data from each\n",
    "\n",
    "seed = 10\n",
    "train1=Boston.sample(frac=.6,random_state = seed)\n",
    "training_target = train1['medv']\n",
    "train= train1.drop(\"medv\",axis=1)\n",
    "\n",
    "validate_test = Boston.loc[~Boston.index.isin(train1.index)]\n",
    "\n",
    "validate_origin = validate_test.sample(frac=.5,random_state = seed )\n",
    "validate1 = validate_origin.drop(\"medv\",axis=1)\n",
    "validate_target = validate_origin['medv']\n",
    "validate = validate1\n",
    "\n",
    "test = validate_test.loc[~validate_test.index.isin(validate_origin.index)]\n",
    "test_no_y = test.drop(\"medv\",axis=1)\n",
    "test_target = test['medv']"
   ]
  },
  {
   "cell_type": "code",
   "execution_count": 69,
   "metadata": {},
   "outputs": [
    {
     "data": {
      "text/plain": [
       "(67, 22)"
      ]
     },
     "execution_count": 69,
     "metadata": {},
     "output_type": "execute_result"
    }
   ],
   "source": [
    "test_no_y.shape"
   ]
  },
  {
   "cell_type": "code",
   "execution_count": 70,
   "metadata": {},
   "outputs": [
    {
     "data": {
      "text/plain": [
       "(66,)"
      ]
     },
     "execution_count": 70,
     "metadata": {},
     "output_type": "execute_result"
    }
   ],
   "source": [
    "validate_target.shape"
   ]
  },
  {
   "cell_type": "markdown",
   "metadata": {},
   "source": [
    "We will find our best hyperparameter L2"
   ]
  },
  {
   "cell_type": "code",
   "execution_count": 71,
   "metadata": {},
   "outputs": [],
   "source": [
    "#Training R2\n",
    "I_reg = np.identity(23)\n",
    "I_reg[0,0] = 0\n",
    "R2_old = 0\n",
    "\n",
    "for lambda2 in range(100):\n",
    "\n",
    "    X = np.column_stack((np.ones((200,1)),train)) #200 x 23 Matrix\n",
    "    y = training_target #size is (200,)\n",
    "    w = np.linalg.solve(X.T.dot(X) + lambda2*I_reg, X.T.dot(y)) #Our weights for testing on the test set\n",
    "    y_hat = X.dot(w)\n",
    "\n",
    "    R2 = 1 - np.sum((y-y_hat)**2)/np.sum((y-y.mean())**2) #Gets our R^2\n",
    " \n",
    "    \n",
    "    #Validate R_2\n",
    "    X = np.column_stack((np.ones((66,1)),validate)) #66 x 23 Matrix\n",
    "    y = validate_target #size is (66,)\n",
    "    y_hat = X.dot(w) #size is (66,)\n",
    "\n",
    "    R2 = 1 - np.sum((y-y_hat)**2)/np.sum((y-y.mean())**2) #Gets our R^2\n",
    "    if R2 > R2_old:\n",
    "        R2_old = R2\n",
    "        lambda2_real = lambda2"
   ]
  },
  {
   "cell_type": "code",
   "execution_count": 72,
   "metadata": {},
   "outputs": [
    {
     "data": {
      "text/plain": [
       "0.690344823906342"
      ]
     },
     "execution_count": 72,
     "metadata": {},
     "output_type": "execute_result"
    }
   ],
   "source": [
    "R2_old"
   ]
  },
  {
   "cell_type": "code",
   "execution_count": 73,
   "metadata": {},
   "outputs": [
    {
     "data": {
      "text/plain": [
       "0"
      ]
     },
     "execution_count": 73,
     "metadata": {},
     "output_type": "execute_result"
    }
   ],
   "source": [
    "lambda2_real"
   ]
  },
  {
   "cell_type": "markdown",
   "metadata": {},
   "source": [
    "#I tested a number of different lambda2 values just to make sure that my code wasn't messed up and giving e a 0 for my lambda 2 when it should have been a higher number, and a lambda of 0 was indeed what got me the highest R^2"
   ]
  },
  {
   "cell_type": "code",
   "execution_count": 74,
   "metadata": {},
   "outputs": [],
   "source": [
    "#Finnally, we will use the tset data set to find our final R^2"
   ]
  },
  {
   "cell_type": "code",
   "execution_count": 75,
   "metadata": {},
   "outputs": [
    {
     "data": {
      "text/plain": [
       "0.5751624776475857"
      ]
     },
     "execution_count": 75,
     "metadata": {},
     "output_type": "execute_result"
    }
   ],
   "source": [
    "X = np.column_stack((np.ones((67,1)),test_no_y)) #66 x 23 Matrix\n",
    "y = test_target #size is (66,)\n",
    "y_hat = X.dot(w) #size is (66,)\n",
    "R2 = 1 - np.sum((y-y_hat)**2)/np.sum((y-y.mean())**2) #Gets our R^2\n",
    "R2"
   ]
  },
  {
   "cell_type": "markdown",
   "metadata": {},
   "source": []
  },
  {
   "cell_type": "code",
   "execution_count": 76,
   "metadata": {},
   "outputs": [
    {
     "data": {
      "text/plain": [
       "array([ 3.75432676e+01, -5.53068023e-02,  5.26973299e-02, -3.99692530e-03,\n",
       "       -3.90747459e-02,  1.66862015e+00, -2.01632682e-02, -1.15798118e+00,\n",
       "       -4.46000073e-03, -7.07918237e-01,  1.00422540e-02, -6.98230657e-01,\n",
       "       -3.64016612e-01,  3.64016612e-01, -1.79888715e-01, -1.18161920e-01,\n",
       "        2.84576084e-01, -4.30395573e-01, -3.06853323e-02, -2.71913629e-01,\n",
       "        2.14534231e-01,  1.79157677e-01,  3.52777177e-01])"
      ]
     },
     "execution_count": 76,
     "metadata": {},
     "output_type": "execute_result"
    }
   ],
   "source": [
    "w"
   ]
  },
  {
   "cell_type": "code",
   "execution_count": 39,
   "metadata": {},
   "outputs": [
    {
     "data": {
      "text/plain": [
       "22"
      ]
     },
     "execution_count": 39,
     "metadata": {},
     "output_type": "execute_result"
    }
   ],
   "source": [
    "Bost_list = list(Boston)\n",
    "Bost_list.remove(\"medv\")\n",
    "len(Bost_list)"
   ]
  },
  {
   "cell_type": "code",
   "execution_count": 44,
   "metadata": {},
   "outputs": [],
   "source": [
    "w=w.tolist()"
   ]
  },
  {
   "cell_type": "code",
   "execution_count": 46,
   "metadata": {},
   "outputs": [
    {
     "data": {
      "text/plain": [
       "37.543267554387086"
      ]
     },
     "execution_count": 46,
     "metadata": {},
     "output_type": "execute_result"
    }
   ],
   "source": [
    "w.pop(0)"
   ]
  },
  {
   "cell_type": "code",
   "execution_count": 49,
   "metadata": {},
   "outputs": [
    {
     "data": {
      "text/plain": [
       "22"
      ]
     },
     "execution_count": 49,
     "metadata": {},
     "output_type": "execute_result"
    }
   ],
   "source": [
    "len(w)"
   ]
  },
  {
   "cell_type": "code",
   "execution_count": 57,
   "metadata": {},
   "outputs": [
    {
     "data": {
      "text/html": [
       "<div>\n",
       "<style scoped>\n",
       "    .dataframe tbody tr th:only-of-type {\n",
       "        vertical-align: middle;\n",
       "    }\n",
       "\n",
       "    .dataframe tbody tr th {\n",
       "        vertical-align: top;\n",
       "    }\n",
       "\n",
       "    .dataframe thead th {\n",
       "        text-align: right;\n",
       "    }\n",
       "</style>\n",
       "<table border=\"1\" class=\"dataframe\">\n",
       "  <thead>\n",
       "    <tr style=\"text-align: right;\">\n",
       "      <th></th>\n",
       "      <th>crim</th>\n",
       "      <th>zn</th>\n",
       "      <th>indus</th>\n",
       "      <th>nox</th>\n",
       "      <th>rm</th>\n",
       "      <th>age</th>\n",
       "      <th>dis</th>\n",
       "      <th>tax</th>\n",
       "      <th>ptratio</th>\n",
       "      <th>black</th>\n",
       "      <th>...</th>\n",
       "      <th>chas_1</th>\n",
       "      <th>rad_1</th>\n",
       "      <th>rad_2</th>\n",
       "      <th>rad_3</th>\n",
       "      <th>rad_4</th>\n",
       "      <th>rad_5</th>\n",
       "      <th>rad_6</th>\n",
       "      <th>rad_7</th>\n",
       "      <th>rad_8</th>\n",
       "      <th>rad_24</th>\n",
       "    </tr>\n",
       "  </thead>\n",
       "  <tbody>\n",
       "    <tr>\n",
       "      <th>0</th>\n",
       "      <td>-0.055307</td>\n",
       "      <td>0.052697</td>\n",
       "      <td>-0.003997</td>\n",
       "      <td>-0.039075</td>\n",
       "      <td>1.66862</td>\n",
       "      <td>-0.020163</td>\n",
       "      <td>-1.157981</td>\n",
       "      <td>-0.00446</td>\n",
       "      <td>-0.707918</td>\n",
       "      <td>0.010042</td>\n",
       "      <td>...</td>\n",
       "      <td>0.364017</td>\n",
       "      <td>-0.179889</td>\n",
       "      <td>-0.118162</td>\n",
       "      <td>0.284576</td>\n",
       "      <td>-0.430396</td>\n",
       "      <td>-0.030685</td>\n",
       "      <td>-0.271914</td>\n",
       "      <td>0.214534</td>\n",
       "      <td>0.179158</td>\n",
       "      <td>0.352777</td>\n",
       "    </tr>\n",
       "  </tbody>\n",
       "</table>\n",
       "<p>1 rows × 22 columns</p>\n",
       "</div>"
      ],
      "text/plain": [
       "       crim        zn     indus       nox       rm       age       dis  \\\n",
       "0 -0.055307  0.052697 -0.003997 -0.039075  1.66862 -0.020163 -1.157981   \n",
       "\n",
       "       tax   ptratio     black  ...    chas_1     rad_1     rad_2     rad_3  \\\n",
       "0 -0.00446 -0.707918  0.010042  ...  0.364017 -0.179889 -0.118162  0.284576   \n",
       "\n",
       "      rad_4     rad_5     rad_6     rad_7     rad_8    rad_24  \n",
       "0 -0.430396 -0.030685 -0.271914  0.214534  0.179158  0.352777  \n",
       "\n",
       "[1 rows x 22 columns]"
      ]
     },
     "execution_count": 57,
     "metadata": {},
     "output_type": "execute_result"
    }
   ],
   "source": [
    "df = pd.DataFrame(np.array(w).reshape(1,22), columns = Bost_list)\n",
    "df"
   ]
  },
  {
   "cell_type": "code",
   "execution_count": 58,
   "metadata": {},
   "outputs": [],
   "source": [
    "#df.to_csv(r'/home/techfield/class/Presentations/w.csv')"
   ]
  },
  {
   "cell_type": "code",
   "execution_count": 63,
   "metadata": {},
   "outputs": [
    {
     "data": {
      "text/plain": [
       "[-1.1579811844014543,\n",
       " -0.707918236641066,\n",
       " -0.6982306568981436,\n",
       " -0.4303955733093004,\n",
       " -0.36401661242959693,\n",
       " -0.2719136289177939,\n",
       " -0.17988871527914357,\n",
       " -0.11816191976137602,\n",
       " -0.05530680228481874,\n",
       " -0.03907474593069807,\n",
       " -0.030685332277869744,\n",
       " -0.02016326823446384,\n",
       " -0.004460000725918546,\n",
       " -0.003996925303254512,\n",
       " 0.010042253972378738,\n",
       " 0.052697329935263985,\n",
       " 0.17915767651750572,\n",
       " 0.21453423131285856,\n",
       " 0.2845760844920248,\n",
       " 0.35277717722313157,\n",
       " 0.36401661242962335,\n",
       " 1.6686201534656209]"
      ]
     },
     "execution_count": 63,
     "metadata": {},
     "output_type": "execute_result"
    }
   ],
   "source": [
    "w.sort()\n",
    "w"
   ]
  }
 ],
 "metadata": {
  "kernelspec": {
   "display_name": "Python 3",
   "language": "python",
   "name": "python3"
  },
  "language_info": {
   "codemirror_mode": {
    "name": "ipython",
    "version": 3
   },
   "file_extension": ".py",
   "mimetype": "text/x-python",
   "name": "python",
   "nbconvert_exporter": "python",
   "pygments_lexer": "ipython3",
   "version": "3.5.2"
  }
 },
 "nbformat": 4,
 "nbformat_minor": 2
}
