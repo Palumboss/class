{
 "cells": [
  {
   "cell_type": "code",
   "execution_count": 74,
   "metadata": {},
   "outputs": [],
   "source": [
    "import numpy as np\n",
    "import matplotlib.pyplot as plt\n",
    "from mpl_toolkits.mplot3d.axes3d import Axes3D\n",
    "import pandas as pd\n",
    "import os\n",
    "from sklearn import preprocessing\n",
    "from random import randrange\n",
    "%matplotlib inline"
   ]
  },
  {
   "cell_type": "code",
   "execution_count": 75,
   "metadata": {},
   "outputs": [],
   "source": [
    "Boston = pd.read_csv(\"/home/techfield/class/Presentations/Boston_Presentation/train.csv\")"
   ]
  },
  {
   "cell_type": "code",
   "execution_count": 76,
   "metadata": {},
   "outputs": [
    {
     "data": {
      "text/plain": [
       "(333, 15)"
      ]
     },
     "execution_count": 76,
     "metadata": {},
     "output_type": "execute_result"
    }
   ],
   "source": [
    "Boston.shape"
   ]
  },
  {
   "cell_type": "code",
   "execution_count": 77,
   "metadata": {},
   "outputs": [],
   "source": [
    "#chas and rad will be dummies, as chas is a 0 or 1 and rad is a code\n",
    "\n",
    "Boston = Boston.drop(columns = [\"ID\"])\n",
    "Boston = pd.get_dummies(Boston,columns = [\"chas\",\"rad\"])\n"
   ]
  },
  {
   "cell_type": "code",
   "execution_count": 100,
   "metadata": {},
   "outputs": [],
   "source": [
    "#Going to use Train-Validate-Test Model, so lets get our data from each\n",
    "\n",
    "seed = 10\n",
    "train1=Boston.sample(frac=.6,random_state = seed)\n",
    "training_target = train1['medv']\n",
    "train= train1.drop(\"medv\",axis=1)\n",
    "\n",
    "validate_test = Boston.loc[~Boston.index.isin(train1.index)]\n",
    "\n",
    "validate_origin = validate_test.sample(frac=.5,random_state = seed )\n",
    "validate1 = validate_origin.drop(\"medv\",axis=1)\n",
    "validate_target = validate_origin['medv']\n",
    "validate = validate1\n",
    "\n",
    "test = validate_test.loc[~validate_test.index.isin(validate_origin.index)]\n",
    "test_no_y = test.drop(\"medv\",axis=1)\n",
    "test_target = test['medv']"
   ]
  },
  {
   "cell_type": "code",
   "execution_count": 106,
   "metadata": {},
   "outputs": [
    {
     "data": {
      "text/plain": [
       "(66,)"
      ]
     },
     "execution_count": 106,
     "metadata": {},
     "output_type": "execute_result"
    }
   ],
   "source": [
    "validate_target.shape"
   ]
  },
  {
   "cell_type": "code",
   "execution_count": 102,
   "metadata": {},
   "outputs": [
    {
     "data": {
      "text/plain": [
       "(200, 22)"
      ]
     },
     "execution_count": 102,
     "metadata": {},
     "output_type": "execute_result"
    }
   ],
   "source": [
    "X = np.column_stack((np.ones((200,1)),train)) #200 x 23 Matrix\n",
    "y = training_target #size is (200,)\n",
    "train.shape"
   ]
  },
  {
   "cell_type": "markdown",
   "metadata": {},
   "source": [
    "We will find an R^2 for our training set first"
   ]
  },
  {
   "cell_type": "code",
   "execution_count": 103,
   "metadata": {},
   "outputs": [
    {
     "data": {
      "text/plain": [
       "0.7902421541769571"
      ]
     },
     "execution_count": 103,
     "metadata": {},
     "output_type": "execute_result"
    }
   ],
   "source": [
    "#Training R2\n",
    "w = np.linalg.solve(X.T.dot(X), X.T.dot(y)) #Reshape y.reshape([N,1])\n",
    "y_hat = X.dot(w)\n",
    "\n",
    "\n",
    "R2 = 1 - np.sum((y-y_hat)**2)/np.sum((y-y.mean())**2) #Gets our R^2\n",
    "R2"
   ]
  },
  {
   "cell_type": "code",
   "execution_count": 113,
   "metadata": {},
   "outputs": [
    {
     "data": {
      "text/plain": [
       "(23,)"
      ]
     },
     "execution_count": 113,
     "metadata": {},
     "output_type": "execute_result"
    }
   ],
   "source": [
    "w.shape #size is (23,)"
   ]
  },
  {
   "cell_type": "code",
   "execution_count": 116,
   "metadata": {},
   "outputs": [
    {
     "data": {
      "text/plain": [
       "0.690344823906342"
      ]
     },
     "execution_count": 116,
     "metadata": {},
     "output_type": "execute_result"
    }
   ],
   "source": [
    "X = np.column_stack((np.ones((66,1)),validate)) #66 x 23 Matrix\n",
    "y = validate_target #size is (66,)\n",
    "y_hat = X.dot(w) #size is (66,)\n",
    "\n",
    "y_hat.shape\n",
    "R2 = 1 - np.sum((y-y_hat)**2)/np.sum((y-y.mean())**2) #Gets our R^2\n",
    "R2"
   ]
  },
  {
   "cell_type": "code",
   "execution_count": null,
   "metadata": {},
   "outputs": [],
   "source": []
  },
  {
   "cell_type": "code",
   "execution_count": 82,
   "metadata": {},
   "outputs": [],
   "source": [
    "def OLS(y, y_hat):\n",
    "    return (y - y_hat).dot(y - y_hat)\n",
    "\n",
    "def R2(y, y_hat):\n",
    "    return 1 - (y - y_hat).dot(y - y_hat) / (y - y.mean()).dot(y - y.mean())"
   ]
  },
  {
   "cell_type": "code",
   "execution_count": null,
   "metadata": {},
   "outputs": [],
   "source": []
  },
  {
   "cell_type": "code",
   "execution_count": 84,
   "metadata": {},
   "outputs": [
    {
     "name": "stderr",
     "output_type": "stream",
     "text": [
      "/home/techfield/.local/lib/python3.5/site-packages/ipykernel_launcher.py:12: RuntimeWarning: invalid value encountered in subtract\n",
      "  if sys.path[0] == '':\n"
     ]
    },
    {
     "data": {
      "text/plain": [
       "[<matplotlib.lines.Line2D at 0x7f9b834f9c88>]"
      ]
     },
     "execution_count": 84,
     "metadata": {},
     "output_type": "execute_result"
    },
    {
     "data": {
      "image/png": "[encoded data removed]",
      "text/plain": [
       "<Figure size 576x432 with 1 Axes>"
      ]
     },
     "metadata": {
      "needs_background": "light"
     },
     "output_type": "display_data"
    }
   ],
   "source": [
    "# Fit the Model using Gradient Descent\n",
    "\n",
    "w = np.random.randn(23)\n",
    "\n",
    "J = []\n",
    "eta = 1e-4\n",
    "epochs = 1e5\n",
    "\n",
    "for t in range(int(epochs)):\n",
    "    y_hat = X.dot(w)\n",
    "    J.append(OLS(y, y_hat))\n",
    "    w -= eta*X.T.dot(y_hat - y)\n",
    "    \n",
    "plt.figure(figsize = (8,6))\n",
    "plt.plot(J)"
   ]
  },
  {
   "cell_type": "code",
   "execution_count": 66,
   "metadata": {},
   "outputs": [
    {
     "name": "stdout",
     "output_type": "stream",
     "text": [
      "[1.0000e+00 3.5840e-02 8.0000e+01 3.3700e+00 3.9800e-01 6.2900e+00\n",
      " 1.7800e+01 6.6115e+00 3.3700e+02 1.6100e+01 3.9690e+02 4.6700e+00\n",
      " 1.0000e+00 0.0000e+00 0.0000e+00 0.0000e+00 0.0000e+00 1.0000e+00\n",
      " 0.0000e+00 0.0000e+00 0.0000e+00 0.0000e+00 0.0000e+00]\n"
     ]
    },
    {
     "data": {
      "text/plain": [
       "-1.3880671582420425"
      ]
     },
     "execution_count": 66,
     "metadata": {},
     "output_type": "execute_result"
    }
   ],
   "source": [
    "print(X[0])\n",
    "\n",
    "1 - (y - y_hat).dot(y - y_hat) / (y - y.mean()).dot(y - y.mean())"
   ]
  },
  {
   "cell_type": "code",
   "execution_count": null,
   "metadata": {},
   "outputs": [],
   "source": []
  }
 ],
 "metadata": {
  "kernelspec": {
   "display_name": "Python 3",
   "language": "python",
   "name": "python3"
  },
  "language_info": {
   "codemirror_mode": {
    "name": "ipython",
    "version": 3
   },
   "file_extension": ".py",
   "mimetype": "text/x-python",
   "name": "python",
   "nbconvert_exporter": "python",
   "pygments_lexer": "ipython3",
   "version": "3.5.2"
  }
 },
 "nbformat": 4,
 "nbformat_minor": 2
}
