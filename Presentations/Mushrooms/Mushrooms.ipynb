{
 "cells": [
  {
   "cell_type": "code",
   "execution_count": 1,
   "metadata": {},
   "outputs": [],
   "source": [
    "import numpy as np\n",
    "import pandas as pd\n",
    "import matplotlib.pyplot as plt\n",
    "from random import randrange\n",
    "%matplotlib inline"
   ]
  },
  {
   "cell_type": "code",
   "execution_count": 2,
   "metadata": {},
   "outputs": [
    {
     "data": {
      "text/plain": [
       "(8124, 23)"
      ]
     },
     "execution_count": 2,
     "metadata": {},
     "output_type": "execute_result"
    }
   ],
   "source": [
    "Mush1 = pd.read_csv(\"/home/techfield/class/Presentations/Mushrooms/mushrooms.csv\")\n",
    "Mush1.shape"
   ]
  },
  {
   "cell_type": "markdown",
   "metadata": {},
   "source": [
    "Looks like every predictor is a categorical one"
   ]
  },
  {
   "cell_type": "code",
   "execution_count": 3,
   "metadata": {},
   "outputs": [
    {
     "data": {
      "text/plain": [
       "(8124, 118)"
      ]
     },
     "execution_count": 3,
     "metadata": {},
     "output_type": "execute_result"
    }
   ],
   "source": [
    "Mush = pd.get_dummies(Mush1,columns = [\"cap-shape\",\"cap-surface\",\"cap-color\",\"bruises\",\"odor\",\"gill-attachment\",\"gill-spacing\",\"gill-size\",\"gill-color\",\"stalk-shape\",\"stalk-root\",\"stalk-surface-above-ring\",\"stalk-surface-below-ring\",\"stalk-color-above-ring\",\"stalk-color-below-ring\",\"veil-type\",\"veil-color\",\"ring-number\",\"ring-type\",\"spore-print-color\",\"population\",\"habitat\"])\n",
    "Mush.shape"
   ]
  },
  {
   "cell_type": "code",
   "execution_count": 4,
   "metadata": {},
   "outputs": [],
   "source": [
    "seed = 10\n",
    "train1=Mush.sample(frac=.6,random_state = seed)\n",
    "training_target = train1['class']\n",
    "\n",
    "dum1 =pd.get_dummies(training_target)\n",
    "training_target = dum1.drop(\"p\",axis =1)\n",
    "\n",
    "train= train1.drop(\"class\",axis=1) #Shape is 4824 x 117\n",
    "\n",
    "validate_test = Mush.loc[~Mush.index.isin(train1.index)]\n",
    "\n",
    "validate_origin = validate_test.sample(frac=.5,random_state = seed )\n",
    "validate1 = validate_origin.drop(\"class\",axis=1)\n",
    "validate_target = validate_origin['class']\n",
    "\n",
    "dum1 =pd.get_dummies(validate_target)\n",
    "validate_target = dum1.drop(\"p\",axis =1)\n",
    "validate = validate1 #Shape is 1625 x 117\n",
    "\n",
    "test1 = validate_test.loc[~validate_test.index.isin(validate_origin.index)]\n",
    "test_target = test1['class'] \n",
    "dum1 =pd.get_dummies(test_target)\n",
    "test_target = dum1.drop(\"p\",axis =1)\n",
    "test = test1.drop(\"class\",axis=1)#Shape is 1625 x 117\n"
   ]
  },
  {
   "cell_type": "code",
   "execution_count": 25,
   "metadata": {},
   "outputs": [],
   "source": [
    "def sigmoid(h):\n",
    "    return 1/(1 + np.exp(-h))\n",
    "\n",
    "def cross_entropy(y, p_hat):\n",
    "    return -np.sum(y*np.log(p_hat) + (1 - y)*np.log(1 - p_hat))\n",
    "\n",
    "def accuracy(y, p_hat):\n",
    "    return np.mean(y == np.round(p_hat))\n",
    "def one_hot_encode(y):\n",
    "    N = len(y)\n",
    "    K = len(set(y))\n",
    "    \n",
    "    Y = np.zeros((N,K))\n",
    "    \n",
    "    for i in range(N):\n",
    "        Y[i,y[i]] = 1\n",
    "        \n",
    "    return Y\n",
    "def confusion_matrix(Y, Y_hat):\n",
    "    return np.matmul(Y.T, Y_hat)\n",
    "def roc_auc(p_hat,y_hat,y,show_curve):\n",
    "    roc_matrix = np.column_stack((p_hat,y_hat, y))\n",
    "    roc_matrix = roc_matrix[roc_matrix[:,0].argsort()[::-1,],:]\n",
    "                            \n",
    "    tpr = np.cumsum(roc_matrix[:,1] * roc_matrix[:,2]) / roc_matrix[:,2].sum()\n",
    "    fpr = np.cumsum(roc_matrix[:,1] * (1 - roc_matrix[:,2])) / (1 - roc_matrix[:,2]).sum()\n",
    "    \n",
    "    tpr = np.array([0] + tpr.tolist() + [1])\n",
    "    fpr = np.array([0] + fpr.tolist() + [1])\n",
    "    \n",
    "    if show_curve:\n",
    "        plt.figure()\n",
    "        plt.step(fpr,tpr)\n",
    "        \n",
    "    return tpr[1:].dot(np.diff(fpr))"
   ]
  },
  {
   "cell_type": "code",
   "execution_count": 6,
   "metadata": {},
   "outputs": [],
   "source": [
    "X = train\n",
    "y = training_target #Needs to be in shape 4874,\n",
    "\n",
    "X = np.column_stack((np.ones((4874,1)),X))\n",
    "y.shape\n",
    "y= y.values #This didn't switch to size (4787,)\n"
   ]
  },
  {
   "cell_type": "code",
   "execution_count": 7,
   "metadata": {},
   "outputs": [],
   "source": [
    "y = [item for sublist in y for item in sublist]\n",
    "y = np.asarray(y, dtype=np.float32)"
   ]
  },
  {
   "cell_type": "code",
   "execution_count": 8,
   "metadata": {},
   "outputs": [
    {
     "data": {
      "text/plain": [
       "(1625, 117)"
      ]
     },
     "execution_count": 8,
     "metadata": {},
     "output_type": "execute_result"
    }
   ],
   "source": [
    "validate.shape"
   ]
  },
  {
   "cell_type": "code",
   "execution_count": 9,
   "metadata": {},
   "outputs": [
    {
     "data": {
      "text/plain": [
       "[<matplotlib.lines.Line2D at 0x7fa787382ba8>]"
      ]
     },
     "execution_count": 9,
     "metadata": {},
     "output_type": "execute_result"
    },
    {
     "data": {
      "image/png": "[encoded data removed]",
      "text/plain": [
       "<Figure size 432x288 with 1 Axes>"
      ]
     },
     "metadata": {
      "needs_background": "light"
     },
     "output_type": "display_data"
    }
   ],
   "source": [
    "\n",
    "w = np.random.randn(118)\n",
    "\n",
    "eta = 1e-3\n",
    "epochs = int(1e3)\n",
    "J = [0]*epochs\n",
    "\n",
    "for epoch in range(epochs):\n",
    "    p_hat = sigmoid(X.dot(w)) # size ()\n",
    "    J[epoch] = cross_entropy(y, p_hat)\n",
    "    w -= eta*X.T.dot(p_hat - y) #This needs to be of size 118\n",
    "    \n",
    "plt.figure()\n",
    "plt.plot(J)"
   ]
  },
  {
   "cell_type": "code",
   "execution_count": 10,
   "metadata": {},
   "outputs": [
    {
     "name": "stdout",
     "output_type": "stream",
     "text": [
      "Accuracy: 0.9998\n"
     ]
    }
   ],
   "source": [
    "p_hat = sigmoid(X.dot(w))\n",
    "\n",
    "print(\"Accuracy: {:0.4f}\".format(accuracy(y,p_hat)))"
   ]
  },
  {
   "cell_type": "code",
   "execution_count": 11,
   "metadata": {},
   "outputs": [],
   "source": [
    "X = validate\n",
    "y = validate_target #Needs to be in shape 1625,\n",
    "\n",
    "X = np.column_stack((np.ones((1625,1)),X))\n",
    "y= y.values \n",
    "\n",
    "y = [item for sublist in y for item in sublist]\n",
    "y = np.asarray(y, dtype=np.float32)"
   ]
  },
  {
   "cell_type": "code",
   "execution_count": 12,
   "metadata": {},
   "outputs": [
    {
     "data": {
      "text/plain": [
       "array([1., 0., 1., ..., 0., 1., 1.], dtype=float32)"
      ]
     },
     "execution_count": 12,
     "metadata": {},
     "output_type": "execute_result"
    }
   ],
   "source": [
    "y"
   ]
  },
  {
   "cell_type": "code",
   "execution_count": 13,
   "metadata": {},
   "outputs": [
    {
     "name": "stdout",
     "output_type": "stream",
     "text": [
      "Accuracy: 0.9975\n"
     ]
    }
   ],
   "source": [
    "p_hat = sigmoid(X.dot(w))\n",
    "\n",
    "print(\"Accuracy: {:0.4f}\".format(accuracy(y,p_hat)))  #Accuracy for validation set"
   ]
  },
  {
   "cell_type": "code",
   "execution_count": 14,
   "metadata": {},
   "outputs": [],
   "source": [
    "X = test\n",
    "y = test_target #Needs to be in shape 1625,\n",
    "\n",
    "X = np.column_stack((np.ones((1625,1)),X))\n",
    "y= y.values\n",
    "\n",
    "y = [item for sublist in y for item in sublist]\n",
    "y = np.asarray(y, dtype=np.int32)"
   ]
  },
  {
   "cell_type": "code",
   "execution_count": 15,
   "metadata": {},
   "outputs": [
    {
     "name": "stdout",
     "output_type": "stream",
     "text": [
      "Accuracy: 0.9994\n"
     ]
    }
   ],
   "source": [
    "p_hat = sigmoid(X.dot(w))\n",
    "\n",
    "print(\"Accuracy: {:0.4f}\".format(accuracy(y,p_hat)))  #Accuracy for testing set"
   ]
  },
  {
   "cell_type": "code",
   "execution_count": 16,
   "metadata": {},
   "outputs": [],
   "source": [
    "y_actu = pd.Series(y, name='Actual')\n",
    "y_pred = pd.Series(p_hat, name='Predicted')"
   ]
  },
  {
   "cell_type": "code",
   "execution_count": 17,
   "metadata": {},
   "outputs": [
    {
     "data": {
      "text/plain": [
       "(1625,)"
      ]
     },
     "execution_count": 17,
     "metadata": {},
     "output_type": "execute_result"
    }
   ],
   "source": [
    "thresh = .5\n",
    "\n",
    "y_hat = (p_hat > thresh).astype(np.int32)\n",
    "y.shape"
   ]
  },
  {
   "cell_type": "code",
   "execution_count": 18,
   "metadata": {},
   "outputs": [
    {
     "data": {
      "text/plain": [
       "array([[800.,   1.],\n",
       "       [  0., 824.]])"
      ]
     },
     "execution_count": 18,
     "metadata": {},
     "output_type": "execute_result"
    }
   ],
   "source": [
    "Y = one_hot_encode(y)\n",
    "Y_hat = one_hot_encode(y_hat)\n",
    "confusion_matrix(Y, Y_hat)"
   ]
  },
  {
   "cell_type": "code",
   "execution_count": 19,
   "metadata": {},
   "outputs": [],
   "source": [
    "Mush_list = list(Mush)\n",
    "Mush_list.remove(\"class\")"
   ]
  },
  {
   "cell_type": "code",
   "execution_count": 20,
   "metadata": {},
   "outputs": [
    {
     "data": {
      "text/plain": [
       "['cap-shape_b',\n",
       " 'cap-shape_c',\n",
       " 'cap-shape_f',\n",
       " 'cap-shape_k',\n",
       " 'cap-shape_s',\n",
       " 'cap-shape_x',\n",
       " 'cap-surface_f',\n",
       " 'cap-surface_g',\n",
       " 'cap-surface_s',\n",
       " 'cap-surface_y',\n",
       " 'cap-color_b',\n",
       " 'cap-color_c',\n",
       " 'cap-color_e',\n",
       " 'cap-color_g',\n",
       " 'cap-color_n',\n",
       " 'cap-color_p',\n",
       " 'cap-color_r',\n",
       " 'cap-color_u',\n",
       " 'cap-color_w',\n",
       " 'cap-color_y',\n",
       " 'bruises_f',\n",
       " 'bruises_t',\n",
       " 'odor_a',\n",
       " 'odor_c',\n",
       " 'odor_f',\n",
       " 'odor_l',\n",
       " 'odor_m',\n",
       " 'odor_n',\n",
       " 'odor_p',\n",
       " 'odor_s',\n",
       " 'odor_y',\n",
       " 'gill-attachment_a',\n",
       " 'gill-attachment_f',\n",
       " 'gill-spacing_c',\n",
       " 'gill-spacing_w',\n",
       " 'gill-size_b',\n",
       " 'gill-size_n',\n",
       " 'gill-color_b',\n",
       " 'gill-color_e',\n",
       " 'gill-color_g',\n",
       " 'gill-color_h',\n",
       " 'gill-color_k',\n",
       " 'gill-color_n',\n",
       " 'gill-color_o',\n",
       " 'gill-color_p',\n",
       " 'gill-color_r',\n",
       " 'gill-color_u',\n",
       " 'gill-color_w',\n",
       " 'gill-color_y',\n",
       " 'stalk-shape_e',\n",
       " 'stalk-shape_t',\n",
       " 'stalk-root_?',\n",
       " 'stalk-root_b',\n",
       " 'stalk-root_c',\n",
       " 'stalk-root_e',\n",
       " 'stalk-root_r',\n",
       " 'stalk-surface-above-ring_f',\n",
       " 'stalk-surface-above-ring_k',\n",
       " 'stalk-surface-above-ring_s',\n",
       " 'stalk-surface-above-ring_y',\n",
       " 'stalk-surface-below-ring_f',\n",
       " 'stalk-surface-below-ring_k',\n",
       " 'stalk-surface-below-ring_s',\n",
       " 'stalk-surface-below-ring_y',\n",
       " 'stalk-color-above-ring_b',\n",
       " 'stalk-color-above-ring_c',\n",
       " 'stalk-color-above-ring_e',\n",
       " 'stalk-color-above-ring_g',\n",
       " 'stalk-color-above-ring_n',\n",
       " 'stalk-color-above-ring_o',\n",
       " 'stalk-color-above-ring_p',\n",
       " 'stalk-color-above-ring_w',\n",
       " 'stalk-color-above-ring_y',\n",
       " 'stalk-color-below-ring_b',\n",
       " 'stalk-color-below-ring_c',\n",
       " 'stalk-color-below-ring_e',\n",
       " 'stalk-color-below-ring_g',\n",
       " 'stalk-color-below-ring_n',\n",
       " 'stalk-color-below-ring_o',\n",
       " 'stalk-color-below-ring_p',\n",
       " 'stalk-color-below-ring_w',\n",
       " 'stalk-color-below-ring_y',\n",
       " 'veil-type_p',\n",
       " 'veil-color_n',\n",
       " 'veil-color_o',\n",
       " 'veil-color_w',\n",
       " 'veil-color_y',\n",
       " 'ring-number_n',\n",
       " 'ring-number_o',\n",
       " 'ring-number_t',\n",
       " 'ring-type_e',\n",
       " 'ring-type_f',\n",
       " 'ring-type_l',\n",
       " 'ring-type_n',\n",
       " 'ring-type_p',\n",
       " 'spore-print-color_b',\n",
       " 'spore-print-color_h',\n",
       " 'spore-print-color_k',\n",
       " 'spore-print-color_n',\n",
       " 'spore-print-color_o',\n",
       " 'spore-print-color_r',\n",
       " 'spore-print-color_u',\n",
       " 'spore-print-color_w',\n",
       " 'spore-print-color_y',\n",
       " 'population_a',\n",
       " 'population_c',\n",
       " 'population_n',\n",
       " 'population_s',\n",
       " 'population_v',\n",
       " 'population_y',\n",
       " 'habitat_d',\n",
       " 'habitat_g',\n",
       " 'habitat_l',\n",
       " 'habitat_m',\n",
       " 'habitat_p',\n",
       " 'habitat_u',\n",
       " 'habitat_w']"
      ]
     },
     "execution_count": 20,
     "metadata": {},
     "output_type": "execute_result"
    }
   ],
   "source": [
    "Mush_list"
   ]
  },
  {
   "cell_type": "code",
   "execution_count": 21,
   "metadata": {},
   "outputs": [],
   "source": [
    "w=w.tolist()"
   ]
  },
  {
   "cell_type": "code",
   "execution_count": 22,
   "metadata": {},
   "outputs": [
    {
     "data": {
      "text/plain": [
       "-1.6629780689606368"
      ]
     },
     "execution_count": 22,
     "metadata": {},
     "output_type": "execute_result"
    }
   ],
   "source": [
    "w.pop(0)"
   ]
  },
  {
   "cell_type": "code",
   "execution_count": 23,
   "metadata": {},
   "outputs": [
    {
     "data": {
      "text/html": [
       "<div>\n",
       "<style scoped>\n",
       "    .dataframe tbody tr th:only-of-type {\n",
       "        vertical-align: middle;\n",
       "    }\n",
       "\n",
       "    .dataframe tbody tr th {\n",
       "        vertical-align: top;\n",
       "    }\n",
       "\n",
       "    .dataframe thead th {\n",
       "        text-align: right;\n",
       "    }\n",
       "</style>\n",
       "<table border=\"1\" class=\"dataframe\">\n",
       "  <thead>\n",
       "    <tr style=\"text-align: right;\">\n",
       "      <th></th>\n",
       "      <th>cap-shape_b</th>\n",
       "      <th>cap-shape_c</th>\n",
       "      <th>cap-shape_f</th>\n",
       "      <th>cap-shape_k</th>\n",
       "      <th>cap-shape_s</th>\n",
       "      <th>cap-shape_x</th>\n",
       "      <th>cap-surface_f</th>\n",
       "      <th>cap-surface_g</th>\n",
       "      <th>cap-surface_s</th>\n",
       "      <th>cap-surface_y</th>\n",
       "      <th>...</th>\n",
       "      <th>population_s</th>\n",
       "      <th>population_v</th>\n",
       "      <th>population_y</th>\n",
       "      <th>habitat_d</th>\n",
       "      <th>habitat_g</th>\n",
       "      <th>habitat_l</th>\n",
       "      <th>habitat_m</th>\n",
       "      <th>habitat_p</th>\n",
       "      <th>habitat_u</th>\n",
       "      <th>habitat_w</th>\n",
       "    </tr>\n",
       "  </thead>\n",
       "  <tbody>\n",
       "    <tr>\n",
       "      <th>0</th>\n",
       "      <td>0.421578</td>\n",
       "      <td>-0.56647</td>\n",
       "      <td>0.82431</td>\n",
       "      <td>-0.240865</td>\n",
       "      <td>1.62131</td>\n",
       "      <td>0.896061</td>\n",
       "      <td>1.116348</td>\n",
       "      <td>0.924491</td>\n",
       "      <td>-0.301965</td>\n",
       "      <td>0.22749</td>\n",
       "      <td>...</td>\n",
       "      <td>-0.617463</td>\n",
       "      <td>-0.473136</td>\n",
       "      <td>1.735052</td>\n",
       "      <td>-0.63891</td>\n",
       "      <td>-0.693782</td>\n",
       "      <td>-2.148952</td>\n",
       "      <td>-0.590397</td>\n",
       "      <td>-0.444038</td>\n",
       "      <td>-0.674036</td>\n",
       "      <td>0.798195</td>\n",
       "    </tr>\n",
       "  </tbody>\n",
       "</table>\n",
       "<p>1 rows × 117 columns</p>\n",
       "</div>"
      ],
      "text/plain": [
       "   cap-shape_b  cap-shape_c  cap-shape_f  cap-shape_k  cap-shape_s  \\\n",
       "0     0.421578     -0.56647      0.82431    -0.240865      1.62131   \n",
       "\n",
       "   cap-shape_x  cap-surface_f  cap-surface_g  cap-surface_s  cap-surface_y  \\\n",
       "0     0.896061       1.116348       0.924491      -0.301965        0.22749   \n",
       "\n",
       "   ...  population_s  population_v  population_y  habitat_d  habitat_g  \\\n",
       "0  ...     -0.617463     -0.473136      1.735052   -0.63891  -0.693782   \n",
       "\n",
       "   habitat_l  habitat_m  habitat_p  habitat_u  habitat_w  \n",
       "0  -2.148952  -0.590397  -0.444038  -0.674036   0.798195  \n",
       "\n",
       "[1 rows x 117 columns]"
      ]
     },
     "execution_count": 23,
     "metadata": {},
     "output_type": "execute_result"
    }
   ],
   "source": [
    "df = pd.DataFrame(np.array(w).reshape(1,117), columns = Mush_list)\n",
    "df"
   ]
  },
  {
   "cell_type": "code",
   "execution_count": 26,
   "metadata": {
    "scrolled": true
   },
   "outputs": [
    {
     "name": "stdout",
     "output_type": "stream",
     "text": [
      "ROC/AUC: 1.0000\n"
     ]
    },
    {
     "data": {
      "image/png": "[encoded data removed]",
      "text/plain": [
       "<Figure size 432x288 with 1 Axes>"
      ]
     },
     "metadata": {
      "needs_background": "light"
     },
     "output_type": "display_data"
    }
   ],
   "source": [
    "auc = roc_auc(p_hat,y_hat,y,show_curve =True)\n",
    "print(\"ROC/AUC: {:.4f}\".format(auc))"
   ]
  },
  {
   "cell_type": "code",
   "execution_count": 24,
   "metadata": {},
   "outputs": [],
   "source": [
    "#df.to_csv(r'/home/techfield/class\\Mush.csv')"
   ]
  }
 ],
 "metadata": {
  "kernelspec": {
   "display_name": "Python 3",
   "language": "python",
   "name": "python3"
  },
  "language_info": {
   "codemirror_mode": {
    "name": "ipython",
    "version": 3
   },
   "file_extension": ".py",
   "mimetype": "text/x-python",
   "name": "python",
   "nbconvert_exporter": "python",
   "pygments_lexer": "ipython3",
   "version": "3.5.2"
  }
 },
 "nbformat": 4,
 "nbformat_minor": 2
}
