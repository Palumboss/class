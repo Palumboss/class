{
 "cells": [
  {
   "cell_type": "code",
   "execution_count": 35,
   "metadata": {},
   "outputs": [],
   "source": [
    "import numpy as np\n",
    "import pandas as pd\n",
    "import matplotlib.pyplot as plt\n",
    "from random import randrange\n",
    "%matplotlib inline"
   ]
  },
  {
   "cell_type": "code",
   "execution_count": 43,
   "metadata": {},
   "outputs": [],
   "source": [
    "Mush1 = pd.read_csv(\"/home/techfield/class/Presentations/Mushrooms/mushrooms.csv\")"
   ]
  },
  {
   "cell_type": "code",
   "execution_count": 4,
   "metadata": {},
   "outputs": [],
   "source": [
    "\n",
    "#Boston = Boston.drop(columns = [\"ID\"])\n",
    "Mush = pd.get_dummies(Mush1,columns = [\"cap-shape\",\"cap-surface\",\"cap-color\",\"bruises\",\"odor\",\"gill-attachment\",\"gill-spacing\",\"gill-size\",\"gill-color\",\"stalk-shape\",\"stalk-root\",\"stalk-surface-above-ring\",\"stalk-surface-below-ring\",\"stalk-color-above-ring\",\"stalk-color-below-ring\",\"veil-type\",\"veil-color\",\"ring-number\",\"ring-type\",\"spore-print-color\",\"population\",\"habitat\"])\n"
   ]
  },
  {
   "cell_type": "code",
   "execution_count": null,
   "metadata": {},
   "outputs": [],
   "source": [
    "Test = []\n",
    "for x in range(22):\n",
    "    if x = 0:\n",
    "        print(\"bell=b,conical=c,convex=x,flat=f, knobbed=k,sunken=s\" )\n",
    "        input(Test[0,x])\n",
    "    elif x = 1:\n",
    "        print(\"fibrous=f,grooves=g,scaly=y,smooth=s \" )\n",
    "        input(Test[0,x])"
   ]
  },
  {
   "cell_type": "code",
   "execution_count": 33,
   "metadata": {},
   "outputs": [],
   "source": [
    "y = [1]"
   ]
  },
  {
   "cell_type": "code",
   "execution_count": 40,
   "metadata": {},
   "outputs": [
    {
     "name": "stdout",
     "output_type": "stream",
     "text": [
      "\n",
      "what is the colorblue\n",
      "\n",
      "what is the smellbad\n"
     ]
    }
   ],
   "source": [
    "X = []\n",
    "features = ['color', 'smell']\n",
    "for f in features:\n",
    "    value = input(\"\\nwhat is the {}\".format(f))\n",
    "    X.append(value)"
   ]
  },
  {
   "cell_type": "code",
   "execution_count": 41,
   "metadata": {},
   "outputs": [
    {
     "data": {
      "text/plain": [
       "['blue', 'bad']"
      ]
     },
     "execution_count": 41,
     "metadata": {},
     "output_type": "execute_result"
    }
   ],
   "source": [
    "X"
   ]
  },
  {
   "cell_type": "code",
   "execution_count": null,
   "metadata": {},
   "outputs": [],
   "source": [
    "X = [f,s,r,f,a,f,]"
   ]
  },
  {
   "cell_type": "code",
   "execution_count": 46,
   "metadata": {},
   "outputs": [],
   "source": [
    "Mush_list = list(Mush1)\n",
    "Mush_list.remove(\"class\")"
   ]
  },
  {
   "cell_type": "code",
   "execution_count": 47,
   "metadata": {},
   "outputs": [
    {
     "ename": "ValueError",
     "evalue": "cannot reshape array of size 2 into shape (1,22)",
     "output_type": "error",
     "traceback": [
      "\u001b[0;31m---------------------------------------------------------------------------\u001b[0m",
      "\u001b[0;31mValueError\u001b[0m                                Traceback (most recent call last)",
      "\u001b[0;32m<ipython-input-47-c8843253f14f>\u001b[0m in \u001b[0;36m<module>\u001b[0;34m\u001b[0m\n\u001b[0;32m----> 1\u001b[0;31m \u001b[0mdf\u001b[0m \u001b[0;34m=\u001b[0m \u001b[0mpd\u001b[0m\u001b[0;34m.\u001b[0m\u001b[0mDataFrame\u001b[0m\u001b[0;34m(\u001b[0m\u001b[0mnp\u001b[0m\u001b[0;34m.\u001b[0m\u001b[0marray\u001b[0m\u001b[0;34m(\u001b[0m\u001b[0mX\u001b[0m\u001b[0;34m)\u001b[0m\u001b[0;34m.\u001b[0m\u001b[0mreshape\u001b[0m\u001b[0;34m(\u001b[0m\u001b[0;36m1\u001b[0m\u001b[0;34m,\u001b[0m\u001b[0;36m22\u001b[0m\u001b[0;34m)\u001b[0m\u001b[0;34m,\u001b[0m \u001b[0mcolumns\u001b[0m \u001b[0;34m=\u001b[0m \u001b[0mMush_list\u001b[0m\u001b[0;34m)\u001b[0m\u001b[0;34m\u001b[0m\u001b[0m\n\u001b[0m\u001b[1;32m      2\u001b[0m \u001b[0mdf\u001b[0m\u001b[0;34m\u001b[0m\u001b[0m\n",
      "\u001b[0;31mValueError\u001b[0m: cannot reshape array of size 2 into shape (1,22)"
     ]
    }
   ],
   "source": [
    "df = pd.DataFrame(np.array(X).reshape(1,22), columns = Mush_list)\n",
    "df"
   ]
  },
  {
   "cell_type": "code",
   "execution_count": 17,
   "metadata": {},
   "outputs": [],
   "source": [
    "#Working prototype?"
   ]
  },
  {
   "cell_type": "code",
   "execution_count": 37,
   "metadata": {},
   "outputs": [],
   "source": [
    "w= [-0.45389153,  0.00985642,  0.15871   ,  0.0923003 , -0.69420974,\n",
    "        0.34126534,  0.247609  ,  0.94647575,  0.49733864, -0.16036728,\n",
    "        0.17415363, -2.20118554,  1.00109123,  0.5618581 , -0.21144711,\n",
    "        0.81939998, -1.48470436,  0.34452454, -0.30331389, -0.94138617,\n",
    "        0.12885175, -0.07946727, -0.88340321,  3.27862289, -4.3301853 ,\n",
    "       -2.59337315,  3.05325812,  0.2624862 ,  6.06424002, -2.56999261,\n",
    "       -0.24536675,  0.15003548,  0.82237041, -0.27206104, -2.71630351,\n",
    "        1.57630085,  2.4753565 , -4.03761225, -2.74656963,  1.14811742,\n",
    "        0.41996418, -0.45565264,  1.95880576,  1.41606865, -0.35480846,\n",
    "        0.80267006, -0.86245425,  1.35189292,  0.31950058, -0.78219366,\n",
    "       -1.91821406,  0.49546216,  1.68467778, -2.65682992,  1.9645288 ,\n",
    "        1.38793754,  2.10387353,  1.18499799, -3.51303399,  2.48980829,\n",
    "        0.37628546,  2.25123779, -0.67124761,  0.3727222 , -1.10531406,\n",
    "       -1.02795226, -1.24031693,  0.98264921, -0.03173025, -2.4340616 ,\n",
    "        1.74885048, -0.65658692,  1.24535313, -0.36621912,  1.36987614,\n",
    "        0.99115901,  0.21857816, -0.14213421,  2.0539966 , -1.76645502,\n",
    "       -1.55126337, -0.20348917, -0.63129882, -0.68383006,  0.01768033,\n",
    "        0.337724  ,  0.52056874, -0.47513591, -0.38082541, -0.81542191,\n",
    "       -0.72756653, -0.71664967,  1.65984354, -1.95084049, -1.90168884,\n",
    "        1.62617223,  0.71062683, -1.22536101,  2.12319691,  2.24168193,\n",
    "       -0.47947886, -3.41710442,  1.87483426,  0.77791085,  1.37282263,\n",
    "        1.11895137, -2.01593308,  1.60053254, -0.51860797, -1.03896721,\n",
    "        2.62865014,  0.91655949, -2.27145281, -0.08631877, -2.15265545,\n",
    "       -1.11228412, -2.13363384,  1.38765736]\n"
   ]
  }
 ],
 "metadata": {
  "kernelspec": {
   "display_name": "Python 3",
   "language": "python",
   "name": "python3"
  },
  "language_info": {
   "codemirror_mode": {
    "name": "ipython",
    "version": 3
   },
   "file_extension": ".py",
   "mimetype": "text/x-python",
   "name": "python",
   "nbconvert_exporter": "python",
   "pygments_lexer": "ipython3",
   "version": "3.5.2"
  }
 },
 "nbformat": 4,
 "nbformat_minor": 2
}
