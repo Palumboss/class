{
 "cells": [
  {
   "cell_type": "code",
   "execution_count": 1,
   "metadata": {},
   "outputs": [],
   "source": [
    "import pandas as pd\n",
    "import numpy as np\n",
    "import matplotlib.pyplot as plt\n",
    "%matplotlib inline"
   ]
  },
  {
   "cell_type": "code",
   "execution_count": 2,
   "metadata": {},
   "outputs": [],
   "source": [
    "digits = pd.read_csv(\"/home/techfield/class/Presentations/USPS/usps_digit_recognizer.csv\")"
   ]
  },
  {
   "cell_type": "code",
   "execution_count": 3,
   "metadata": {},
   "outputs": [
    {
     "data": {
      "text/plain": [
       "(42000, 785)"
      ]
     },
     "execution_count": 3,
     "metadata": {},
     "output_type": "execute_result"
    }
   ],
   "source": [
    "digits.shape"
   ]
  },
  {
   "cell_type": "code",
   "execution_count": 4,
   "metadata": {},
   "outputs": [],
   "source": [
    "D = 785\n",
    "K = 10"
   ]
  },
  {
   "cell_type": "code",
   "execution_count": 5,
   "metadata": {},
   "outputs": [],
   "source": [
    "#Training set\n",
    "seed = 10\n",
    "train1=digits.sample(frac=.6,random_state = seed)\n",
    "training_target = train1.label.values\n",
    "train= train1.drop(\"label\",axis=1)\n",
    "cols = train.columns\n",
    "train['> zero'] = train[cols].gt(0).sum(axis=1)\n",
    "trainmax= train.max(1)\n",
    "train = train / trainmax[:,None]\n",
    "\n",
    "\n",
    "#Validate set\n",
    "validate_test = digits.loc[~digits.index.isin(train1.index)]\n",
    "\n",
    "validate_origin = validate_test.sample(frac=.5,random_state = seed )\n",
    "validate1 = validate_origin.drop(\"label\",axis=1)\n",
    "validate_target = validate_origin.label.values\n",
    "validate = validate1\n",
    "cols = validate.columns\n",
    "validate['> zero'] = validate[cols].gt(0).sum(axis=1)\n",
    "valmax= validate.max(1)\n",
    "validate = validate / valmax[:,None]\n",
    "\n",
    "#Test set\n",
    "test = validate_test.loc[~validate_test.index.isin(validate_origin.index)]\n",
    "test_no_y = test.drop(\"label\",axis=1)\n",
    "test_target = test.label.values\n",
    "test = test_no_y\n",
    "cols = test.columns\n",
    "test['> zero'] = test[cols].gt(0).sum(axis=1)\n",
    "testmax= test.max(1)\n",
    "test = test / testmax[:,None]"
   ]
  },
  {
   "cell_type": "code",
   "execution_count": 14,
   "metadata": {},
   "outputs": [
    {
     "data": {
      "text/plain": [
       "(8400,)"
      ]
     },
     "execution_count": 14,
     "metadata": {},
     "output_type": "execute_result"
    }
   ],
   "source": [
    "test_target.shape"
   ]
  },
  {
   "cell_type": "code",
   "execution_count": 15,
   "metadata": {},
   "outputs": [
    {
     "data": {
      "text/plain": [
       "(8400, 785)"
      ]
     },
     "execution_count": 15,
     "metadata": {},
     "output_type": "execute_result"
    }
   ],
   "source": [
    "validate.shape"
   ]
  },
  {
   "cell_type": "code",
   "execution_count": 16,
   "metadata": {},
   "outputs": [
    {
     "data": {
      "text/plain": [
       "(8400, 785)"
      ]
     },
     "execution_count": 16,
     "metadata": {},
     "output_type": "execute_result"
    }
   ],
   "source": [
    "test.shape"
   ]
  },
  {
   "cell_type": "code",
   "execution_count": 17,
   "metadata": {},
   "outputs": [],
   "source": [
    "def one_hot_encode(y):\n",
    "    N = len(y)\n",
    "    K = len(set(y))\n",
    "    \n",
    "    Y = np.zeros((N,K))\n",
    "    \n",
    "    for i in range(N):\n",
    "      #  try:\n",
    "        Y[i,y[i]] = 1\n",
    "       # except:\n",
    "         #   pdb.set_trace()\n",
    "        \n",
    "    return Y\n",
    "\n",
    "def softmax(H):\n",
    "    eH = np.exp(H)\n",
    "    return eH/eH.sum(axis = 1, keepdims = True)\n",
    "\n",
    "def cross_entropy(Y,P_hat):\n",
    "    return -np.sum(Y*np.log(P_hat))\n",
    "\n",
    "def accuracy(y,P_hat):\n",
    "    return np.mean(y == P_hat.argmax(axis =1))\n",
    "\n",
    "def confusion_matrix(Y, Y_hat):\n",
    "    return np.matmul(Y.T, Y_hat)\n",
    "    "
   ]
  },
  {
   "cell_type": "code",
   "execution_count": 18,
   "metadata": {},
   "outputs": [],
   "source": [
    "PHI = np.column_stack((np.ones((25200,1)), train))\n",
    "Y = one_hot_encode(training_target)"
   ]
  },
  {
   "cell_type": "code",
   "execution_count": 19,
   "metadata": {},
   "outputs": [
    {
     "data": {
      "text/plain": [
       "(25200, 786)"
      ]
     },
     "execution_count": 19,
     "metadata": {},
     "output_type": "execute_result"
    }
   ],
   "source": [
    "PHI.shape"
   ]
  },
  {
   "cell_type": "code",
   "execution_count": 20,
   "metadata": {},
   "outputs": [
    {
     "data": {
      "text/plain": [
       "(25200, 10)"
      ]
     },
     "execution_count": 20,
     "metadata": {},
     "output_type": "execute_result"
    }
   ],
   "source": [
    "Y.shape"
   ]
  },
  {
   "cell_type": "code",
   "execution_count": 21,
   "metadata": {},
   "outputs": [
    {
     "data": {
      "text/plain": [
       "[<matplotlib.lines.Line2D at 0x7f4cd842ef60>]"
      ]
     },
     "execution_count": 21,
     "metadata": {},
     "output_type": "execute_result"
    },
    {
     "data": {
      "image/png": "[encoded data removed]",
      "text/plain": [
       "<Figure size 432x288 with 1 Axes>"
      ]
     },
     "metadata": {
      "needs_background": "light"
     },
     "output_type": "display_data"
    }
   ],
   "source": [
    "W = np.random.randn(D+1,K)\n",
    "\n",
    "eta = 5e-5\n",
    "epochs = int(5e3)\n",
    "J = np.zeros(epochs)\n",
    "\n",
    "for epoch in range(epochs):\n",
    "    P_hat = softmax(PHI.dot(W))\n",
    "    J[epoch] = cross_entropy(Y,P_hat)\n",
    "    W -= eta*PHI.T.dot(P_hat - Y)\n",
    "    \n",
    "plt.figure()\n",
    "plt.plot(J)"
   ]
  },
  {
   "cell_type": "code",
   "execution_count": 23,
   "metadata": {},
   "outputs": [
    {
     "name": "stdout",
     "output_type": "stream",
     "text": [
      "Accuracy: 0.8908\n"
     ]
    }
   ],
   "source": [
    "#Accuracy for training set\n",
    "print(\"Accuracy: {:0.4f}\".format(accuracy(training_target,P_hat)))"
   ]
  },
  {
   "cell_type": "code",
   "execution_count": 24,
   "metadata": {},
   "outputs": [
    {
     "data": {
      "text/plain": [
       "(25200, 10)"
      ]
     },
     "execution_count": 24,
     "metadata": {},
     "output_type": "execute_result"
    }
   ],
   "source": [
    "P_hat.shape"
   ]
  },
  {
   "cell_type": "code",
   "execution_count": 25,
   "metadata": {
    "scrolled": true
   },
   "outputs": [
    {
     "name": "stdout",
     "output_type": "stream",
     "text": [
      "Accuracy: 0.8686\n"
     ]
    }
   ],
   "source": [
    "validate = np.column_stack((np.ones((8400,1)), validate))\n",
    "p_hat = validate.dot(W)\n",
    "print(\"Accuracy: {:0.4f}\".format(accuracy(validate_target,p_hat)))"
   ]
  },
  {
   "cell_type": "code",
   "execution_count": 26,
   "metadata": {},
   "outputs": [
    {
     "name": "stdout",
     "output_type": "stream",
     "text": [
      "Accuracy: 0.8768\n"
     ]
    }
   ],
   "source": [
    "test = np.column_stack((np.ones((8400,1)), test))\n",
    "p_hat = test.dot(W)\n",
    "print(\"Accuracy: {:0.4f}\".format(accuracy(test_target,p_hat)))"
   ]
  },
  {
   "cell_type": "code",
   "execution_count": null,
   "metadata": {},
   "outputs": [],
   "source": [
    "p_hat =  np.argmax(p_hat, axis=1)"
   ]
  },
  {
   "cell_type": "code",
   "execution_count": null,
   "metadata": {},
   "outputs": [],
   "source": [
    "y_actu.shape"
   ]
  },
  {
   "cell_type": "code",
   "execution_count": null,
   "metadata": {},
   "outputs": [],
   "source": [
    "y_pred.shape"
   ]
  },
  {
   "cell_type": "code",
   "execution_count": null,
   "metadata": {},
   "outputs": [],
   "source": [
    "\n",
    "\n",
    "y_actu = pd.Series(test_target, name='Actual')\n",
    "y_pred = pd.Series(p_hat, name='Predicted')\n",
    "thresh = .5\n",
    "y_hat = (p_hat > thresh).astype(np.int32)\n",
    "y_actu = pd.Series(test_target, name='Actual')\n",
    "y_pred = pd.Series(p_hat, name='Predicted')\n",
    "Y = one_hot_encode(y_actu)\n",
    "Y_hat = one_hot_encode(y_pred)\n",
    "confus = confusion_matrix(Y, Y_hat)"
   ]
  },
  {
   "cell_type": "code",
   "execution_count": null,
   "metadata": {},
   "outputs": [],
   "source": [
    "confus"
   ]
  }
 ],
 "metadata": {
  "kernelspec": {
   "display_name": "Python 3",
   "language": "python",
   "name": "python3"
  },
  "language_info": {
   "codemirror_mode": {
    "name": "ipython",
    "version": 3
   },
   "file_extension": ".py",
   "mimetype": "text/x-python",
   "name": "python",
   "nbconvert_exporter": "python",
   "pygments_lexer": "ipython3",
   "version": "3.5.2"
  }
 },
 "nbformat": 4,
 "nbformat_minor": 2
}
