{
 "cells": [
  {
   "cell_type": "code",
   "execution_count": 1,
   "metadata": {},
   "outputs": [],
   "source": [
    "import numpy as np\n",
    "import pandas as pd\n",
    "import matplotlib.pyplot as plt\n",
    "%matplotlib inline"
   ]
  },
  {
   "cell_type": "code",
   "execution_count": 2,
   "metadata": {},
   "outputs": [],
   "source": [
    "digits = pd.read_csv(\"/home/techfield/class/Presentations/USPS/usps_digit_recognizer.csv\")"
   ]
  },
  {
   "cell_type": "code",
   "execution_count": 4,
   "metadata": {},
   "outputs": [],
   "source": [
    "#Train, test validate\n",
    "\n",
    "#Train\n",
    "seed = 5\n",
    "train = digits.sample(frac = 0.6,random_state = seed)\n",
    "train_y = train[[\"label\"]]\n",
    "train_X = train.drop([\"label\"],axis =1)\n",
    "\n",
    "\n",
    "validate_test = digits.loc[~digits.index.isin(train.index)]\n",
    "\n",
    "\n",
    "#Validate\n",
    "validate = validate_test.sample(frac = 0.5, random_state = seed)\n",
    "validate_y = validate[[\"label\"]]\n",
    "validate_X = validate.drop([\"label\"],axis =1)\n",
    "\n",
    "#Test\n",
    "test = validate_test.loc[~validate_test.index.isin(validate.index)]\n",
    "test_y = test[[\"label\"]]\n",
    "test_X = test.drop([\"label\"], axis =1)"
   ]
  },
  {
   "cell_type": "code",
   "execution_count": 150,
   "metadata": {},
   "outputs": [],
   "source": [
    "def one_hot_encode(y):\n",
    "    N = len(y)\n",
    "    K = len(set(y))\n",
    "    Y = np.zeros((N,K))\n",
    "    \n",
    "    for i in range(N):\n",
    "        Y[i,y[i]] = 1\n",
    "        \n",
    "    return Y\n",
    "\n",
    "def softmax(H):\n",
    "    eH = np.exp(H)\n",
    "    return eH/eH.sum(axis = 1, keepdims = True)\n",
    "\n",
    "def feed_forward(X, W1, b1, W2, b2):\n",
    "    Z = np.tanh(np.matmul(X,W1) + b1)\n",
    "    P_hat = softmax(np.matmul(Z,W2) + b2)\n",
    "    return Z, P_hat\n",
    "\n",
    "def cross_entropy(Y, P_hat):\n",
    "    return -np.sum(Y*np.log(P_hat))\n",
    "\n",
    "def accuracy(y, y_hat):\n",
    "    return np.mean(y == y_hat)"
   ]
  },
  {
   "cell_type": "code",
   "execution_count": 205,
   "metadata": {},
   "outputs": [
    {
     "data": {
      "text/plain": [
       "(25200, 1)"
      ]
     },
     "execution_count": 205,
     "metadata": {},
     "output_type": "execute_result"
    }
   ],
   "source": [
    "np.array(train_y).shape"
   ]
  },
  {
   "cell_type": "code",
   "execution_count": 66,
   "metadata": {},
   "outputs": [
    {
     "data": {
      "text/plain": [
       "10"
      ]
     },
     "execution_count": 66,
     "metadata": {},
     "output_type": "execute_result"
    }
   ],
   "source": [
    "dum = pd.get_dummies(train_y,columns = [\"label\"])\n",
    "len(set(dum))"
   ]
  },
  {
   "cell_type": "code",
   "execution_count": 310,
   "metadata": {},
   "outputs": [],
   "source": [
    "\n",
    "    \n",
    "def ANN_RMS_Nest(X,y,eta = 1e-4,epochs = int(1e2),gamma = .999,epsilon = 1e-8,mu = 0.9,M = 6):\n",
    "\n",
    "\n",
    "    Y = pd.get_dummies(y,columns = [\"label\"])\n",
    "    \n",
    "    Y = np.array(Y)\n",
    "    #print(Y)\n",
    "\n",
    "    N,D=X.shape    # X's shape is (25200, 784)\n",
    "    K=10\n",
    "    #K = len(set(Y))\n",
    "    #M is Number of nuerons in a layer\n",
    "\n",
    "    W1 = np.random.randn(D,M) #Shape is (784,6)\n",
    "    b1 = np.random.randn(M)\n",
    "    W2 = np.random.randn(M,K)\n",
    "    b2 = np.random.randn(K)\n",
    "\n",
    "    GW1 = 1\n",
    "    Gb1 = 1\n",
    "    GW2 = 1\n",
    "    Gb2 = 1\n",
    "\n",
    "    #v is velocity in Nesterov\n",
    "    vW1 = 0\n",
    "    vb1 = 0\n",
    "    vW2 = 0\n",
    "    vb2 = 0\n",
    "\n",
    "\n",
    "    J_RMS = np.zeros(epochs)\n",
    "\n",
    "\n",
    "    #Testing shit past this point\n",
    "   \n",
    "    Z1, P_hat = feed_forward(X,W1,b1,W2,b2)\n",
    "    P_hat1 = pd.DataFrame(P_hat)\n",
    "    P_hat1.to_csv(r'/home/techfield/class/Presentations/P_hat0.csv')\n",
    "    \n",
    "   \n",
    "    for epoch in range(epochs):\n",
    "        #Second layer\n",
    "        Z1, P_hat = feed_forward(X,W1,b1,W2,b2)\n",
    "        J_RMS[epoch] = 1/N*cross_entropy(Y,P_hat)\n",
    "        dH2 = P_hat - Y\n",
    "        dW2 = np.matmul(Z1.T,dH2)\n",
    "        db2 = dH2.sum(axis=0)\n",
    "        GW2 = gamma * GW2 + (1-gamma) * dW2**2\n",
    "        Gb2 = gamma * Gb2 + (1-gamma) * db2**2\n",
    "        vW2 = mu*vW2 - eta/np.sqrt(GW2 + epsilon)*dW2\n",
    "        vb2 = mu*vb2 - eta/np.sqrt(Gb2 + epsilon)*db2\n",
    "\n",
    "\n",
    "\n",
    "        W2 += mu * vW2 - eta / (np.sqrt(GW2 + epsilon)) * dW2\n",
    "        b2 += mu * vb2 - eta / (np.sqrt(Gb2 + epsilon)) * db2\n",
    "\n",
    "        #First Layer\n",
    "        dZ1 = np.matmul(dH2,W2.T)\n",
    "        dH1 = dZ1*(Z1 > 0)\n",
    "        dW1 = np.matmul(X.T,dH1)\n",
    "        db1 = dH1.sum(axis = 0)\n",
    "        GW1 = gamma * GW1 + (1-gamma) * dW1**2\n",
    "        Gb1 = gamma * Gb1 + (1-gamma) * db1**2\n",
    "        vW1 = mu*vW1 - eta/np.sqrt(GW1 + epsilon)*dW1\n",
    "        vb1 = mu*vb1 - eta/np.sqrt(Gb1 + epsilon)*db1\n",
    "\n",
    "\n",
    "\n",
    "        W1 += mu * vW1 - eta / (np.sqrt(GW1 + epsilon)) * dW1\n",
    "        b1 += mu * vb1 - eta / (np.sqrt(Gb1 + epsilon)) * db1\n",
    "\n",
    "    plt.figure()\n",
    "    plt.plot(J_RMS,label = \"RMS\")\n",
    "    #plt.plot(J, label = \"Standard Back Prop\")\n",
    "    #plt.plot(J_m_a, label = \"Adam\")\n",
    "    plt.legend()\n",
    "\n",
    "    \n",
    "    P_hat = feed_forward(X,W1,b1,W2,b2)[-1]\n",
    "    y_hat = P_hat.argmax(axis = 1)\n",
    "    \n",
    "    y_hat1 = pd.DataFrame(y_hat)\n",
    "    P_hat1 = pd.DataFrame(P_hat)\n",
    "    \n",
    "    y_hat1.to_csv(r'/home/techfield/class/Presentations/y_hat.csv')\n",
    "    P_hat1.to_csv(r'/home/techfield/class/Presentations/P_hat.csv')\n",
    "    \n",
    "    y=np.array(y)\n",
    "    y=np.reshape(y,(len(y),))\n",
    "    #print(J_RMS)\n",
    "    print(\"Accuracy: {:0.4f}\".format(accuracy(y,y_hat)))\n",
    "#def accuracy(self,y):\n",
    "   # return np.mean(y == y_hat)\n",
    "        "
   ]
  },
  {
   "cell_type": "code",
   "execution_count": 311,
   "metadata": {},
   "outputs": [],
   "source": [
    "#a = ANN()"
   ]
  },
  {
   "cell_type": "code",
   "execution_count": 312,
   "metadata": {},
   "outputs": [
    {
     "name": "stdout",
     "output_type": "stream",
     "text": [
      "Accuracy: 0.1032\n"
     ]
    },
    {
     "data": {
      "image/png": "[encoded data removed]",
      "text/plain": [
       "<Figure size 432x288 with 1 Axes>"
      ]
     },
     "metadata": {
      "needs_background": "light"
     },
     "output_type": "display_data"
    }
   ],
   "source": [
    "ANN_RMS_Nest(np.array(train_X),train_y,eta = 1e-5)"
   ]
  },
  {
   "cell_type": "code",
   "execution_count": 292,
   "metadata": {},
   "outputs": [
    {
     "data": {
      "text/plain": [
       "array([[0., 0., 0., ..., 0., 0., 0.],\n",
       "       [0., 0., 0., ..., 0., 0., 0.],\n",
       "       [0., 1., 0., ..., 0., 0., 0.],\n",
       "       ...,\n",
       "       [0., 0., 0., ..., 1., 0., 0.],\n",
       "       [0., 0., 0., ..., 0., 0., 0.],\n",
       "       [0., 0., 0., ..., 0., 0., 0.]])"
      ]
     },
     "execution_count": 292,
     "metadata": {},
     "output_type": "execute_result"
    }
   ],
   "source": [
    "one_hot_encode(np.array(train_y).reshape((len(train_y),)))"
   ]
  },
  {
   "cell_type": "code",
   "execution_count": 302,
   "metadata": {},
   "outputs": [],
   "source": [
    "Y = pd.get_dummies(train_y,columns = [\"label\"])\n",
    "    \n",
    "Y = np.array(Y)"
   ]
  },
  {
   "cell_type": "code",
   "execution_count": 303,
   "metadata": {},
   "outputs": [
    {
     "data": {
      "text/plain": [
       "array([[0, 0, 0, ..., 0, 0, 0],\n",
       "       [0, 0, 0, ..., 0, 0, 0],\n",
       "       [0, 1, 0, ..., 0, 0, 0],\n",
       "       ...,\n",
       "       [0, 0, 0, ..., 1, 0, 0],\n",
       "       [0, 0, 0, ..., 0, 0, 0],\n",
       "       [0, 0, 0, ..., 0, 0, 0]], dtype=uint8)"
      ]
     },
     "execution_count": 303,
     "metadata": {},
     "output_type": "execute_result"
    }
   ],
   "source": [
    "Y"
   ]
  },
  {
   "cell_type": "code",
   "execution_count": null,
   "metadata": {},
   "outputs": [],
   "source": []
  }
 ],
 "metadata": {
  "kernelspec": {
   "display_name": "Python 3",
   "language": "python",
   "name": "python3"
  },
  "language_info": {
   "codemirror_mode": {
    "name": "ipython",
    "version": 3
   },
   "file_extension": ".py",
   "mimetype": "text/x-python",
   "name": "python",
   "nbconvert_exporter": "python",
   "pygments_lexer": "ipython3",
   "version": "3.5.2"
  }
 },
 "nbformat": 4,
 "nbformat_minor": 2
}
