{
 "cells": [
  {
   "cell_type": "code",
   "execution_count": 1,
   "metadata": {},
   "outputs": [],
   "source": [
    "import numpy as np\n",
    "import pandas as pd\n",
    "import matplotlib.pyplot as plt\n",
    "%matplotlib inline"
   ]
  },
  {
   "cell_type": "code",
   "execution_count": 2,
   "metadata": {},
   "outputs": [],
   "source": [
    "digits = pd.read_csv(\"/home/techfield/class/Presentations/USPS/usps_digit_recognizer.csv\")"
   ]
  },
  {
   "cell_type": "code",
   "execution_count": 322,
   "metadata": {},
   "outputs": [],
   "source": [
    "#Train, test validate\n",
    "\n",
    "#Train\n",
    "seed = 5\n",
    "train = digits.sample(frac = 0.6,random_state = seed)\n",
    "train_y = train[[\"label\"]]\n",
    "train_X = train.drop([\"label\"],axis =1)\n",
    "trainmax= train_X.max(1)\n",
    "train_X = train_X / trainmax[:,None]\n",
    "\n",
    "validate_test = digits.loc[~digits.index.isin(train.index)]\n",
    "\n",
    "\n",
    "#Validate\n",
    "validate = validate_test.sample(frac = 0.5, random_state = seed)\n",
    "validate_y = validate[[\"label\"]]\n",
    "validate_X = validate.drop([\"label\"],axis =1)\n",
    "valmax= validate_X.max(1)\n",
    "validate_X = validate_X / valmax[:,None]\n",
    "\n",
    "#Test\n",
    "test = validate_test.loc[~validate_test.index.isin(validate.index)]\n",
    "test_y = test[[\"label\"]]\n",
    "test_X = test.drop([\"label\"], axis =1)\n",
    "testmax= test_X.max(1)\n",
    "test_X = test_X / testmax[:,None]"
   ]
  },
  {
   "cell_type": "code",
   "execution_count": 372,
   "metadata": {},
   "outputs": [],
   "source": [
    "def one_hot_encode(y):\n",
    "    N = len(y)\n",
    "    K = len(set(y))\n",
    "    Y = np.zeros((N,K))\n",
    "    \n",
    "    for i in range(N):\n",
    "        Y[i,y[i]] = 1\n",
    "        \n",
    "    return Y\n",
    "\n",
    "def softmax(H):\n",
    "    eH = np.exp(H)\n",
    "    return eH/eH.sum(axis = 1, keepdims = True)\n",
    "\n",
    "def feed_forward(X, W1, b1, W2, b2):\n",
    "    Z = np.tanh(np.matmul(X,W1) + b1)\n",
    "    P_hat = softmax(np.matmul(Z,W2) + b2)\n",
    "    return Z, P_hat\n",
    "\n",
    "def cross_entropy(Y, P_hat):\n",
    "    return -np.sum(Y*np.log(P_hat))\n",
    "\n",
    "def accuracy(y, y_hat):\n",
    "    return np.mean(y == y_hat)\n",
    "\n",
    "def confusion_matrix(Y, Y_hat):\n",
    "    return np.matmul(Y.T, Y_hat)\n",
    "    "
   ]
  },
  {
   "cell_type": "code",
   "execution_count": 324,
   "metadata": {},
   "outputs": [
    {
     "data": {
      "text/plain": [
       "(25200, 1)"
      ]
     },
     "execution_count": 324,
     "metadata": {},
     "output_type": "execute_result"
    }
   ],
   "source": [
    "np.array(train_y).shape"
   ]
  },
  {
   "cell_type": "code",
   "execution_count": 325,
   "metadata": {},
   "outputs": [
    {
     "data": {
      "text/plain": [
       "10"
      ]
     },
     "execution_count": 325,
     "metadata": {},
     "output_type": "execute_result"
    }
   ],
   "source": [
    "dum = pd.get_dummies(train_y,columns = [\"label\"])\n",
    "len(set(dum))"
   ]
  },
  {
   "cell_type": "code",
   "execution_count": 374,
   "metadata": {},
   "outputs": [],
   "source": [
    "\n",
    "    \n",
    "def ANN_RMS_Nest(X,y,X1,y1,X2,y2,eta = 1e-4,epochs = int(1e2),gamma = .999,epsilon = 1e-8,mu = 0.9,M = 6):\n",
    "\n",
    "\n",
    "    Y = pd.get_dummies(y,columns = [\"label\"])\n",
    "    \n",
    "    Y = np.array(Y)\n",
    "    #print(Y)\n",
    "\n",
    "    N,D=X.shape    # X's shape is (25200, 784)\n",
    "    K=10\n",
    "    #K = len(set(Y))\n",
    "    #M is Number of nuerons in a layer\n",
    "\n",
    "    W1 = np.random.randn(D,M) #Shape is (784,6)\n",
    "    b1 = np.random.randn(M)\n",
    "    W2 = np.random.randn(M,K)\n",
    "    b2 = np.random.randn(K)\n",
    "\n",
    "    GW1 = 1\n",
    "    Gb1 = 1\n",
    "    GW2 = 1\n",
    "    Gb2 = 1\n",
    "\n",
    "    #v is velocity in Nesterov\n",
    "    vW1 = 0\n",
    "    vb1 = 0\n",
    "    vW2 = 0\n",
    "    vb2 = 0\n",
    "\n",
    "\n",
    "    J_RMS = np.zeros(epochs)\n",
    "\n",
    "\n",
    "    #Testing shit past this point\n",
    "   \n",
    "    Z1, P_hat = feed_forward(X,W1,b1,W2,b2)\n",
    "    P_hat1 = pd.DataFrame(P_hat)\n",
    "    P_hat1.to_csv(r'/home/techfield/class/Presentations/P_hat0.csv')\n",
    "    \n",
    "   \n",
    "    for epoch in range(epochs):\n",
    "        #Second layer\n",
    "        Z1, P_hat = feed_forward(X,W1,b1,W2,b2)\n",
    "        J_RMS[epoch] = 1/N*cross_entropy(Y,P_hat)\n",
    "        dH2 = P_hat - Y\n",
    "        dW2 = np.matmul(Z1.T,dH2)\n",
    "        db2 = dH2.sum(axis=0)\n",
    "        GW2 = gamma * GW2 + (1-gamma) * dW2**2\n",
    "        Gb2 = gamma * Gb2 + (1-gamma) * db2**2\n",
    "        vW2 = mu*vW2 - eta/np.sqrt(GW2 + epsilon)*dW2\n",
    "        vb2 = mu*vb2 - eta/np.sqrt(Gb2 + epsilon)*db2\n",
    "\n",
    "\n",
    "\n",
    "        W2 += mu * vW2 - eta / (np.sqrt(GW2 + epsilon)) * dW2\n",
    "        b2 += mu * vb2 - eta / (np.sqrt(Gb2 + epsilon)) * db2\n",
    "\n",
    "        #First Layer\n",
    "        dZ1 = np.matmul(dH2,W2.T)\n",
    "        dH1 = dZ1*(Z1 > 0)\n",
    "        dW1 = np.matmul(X.T,dH1)\n",
    "        db1 = dH1.sum(axis = 0)\n",
    "        \n",
    "        \n",
    "        GW1 = gamma * GW1 + (1-gamma) * dW1**2\n",
    "        Gb1 = gamma * Gb1 + (1-gamma) * db1**2\n",
    "        vW1 = mu*vW1 - eta/np.sqrt(GW1 + epsilon)*dW1\n",
    "        vb1 = mu*vb1 - eta/np.sqrt(Gb1 + epsilon)*db1\n",
    "\n",
    "\n",
    "\n",
    "        W1 += mu * vW1 - eta / (np.sqrt(GW1 + epsilon)) * dW1\n",
    "        b1 += mu * vb1 - eta / (np.sqrt(Gb1 + epsilon)) * db1\n",
    "\n",
    "    plt.figure()\n",
    "    plt.plot(J_RMS,label = \"RMS\")\n",
    "    #plt.plot(J, label = \"Standard Back Prop\")\n",
    "    #plt.plot(J_m_a, label = \"Adam\")\n",
    "    plt.legend()\n",
    "\n",
    "    \n",
    "    P_hat = feed_forward(X,W1,b1,W2,b2)[-1]\n",
    "    y_hat = P_hat.argmax(axis = 1)\n",
    "    \n",
    "    #y_hat1 = pd.DataFrame(y_hat)\n",
    "    #P_hat1 = pd.DataFrame(P_hat)\n",
    "    \n",
    "    #y_hat1.to_csv(r'/home/techfield/class/Presentations/y_hat.csv')\n",
    "    #P_hat1.to_csv(r'/home/techfield/class/Presentations/P_hat.csv')\n",
    "    \n",
    "    y=np.array(y)\n",
    "    y=np.reshape(y,(len(y),))\n",
    "    print(\"Accuracy: {:0.4f}\".format(accuracy(y,y_hat)))\n",
    "    \n",
    "    P_hat = feed_forward(X1,W1,b1,W2,b2)[-1]\n",
    "    y_hat = P_hat.argmax(axis = 1)\n",
    "    y=np.array(y1)\n",
    "    y=np.reshape(y,(len(y),))\n",
    "    print(\"Accuracy of the validate set: {:0.4f}\".format(accuracy(y,y_hat)))\n",
    "    \n",
    "    P_hat = feed_forward(X2,W1,b1,W2,b2)[-1] # I know I didn't actually test anything with the validate set\n",
    "    y_hat = P_hat.argmax(axis = 1)\n",
    "    y=np.array(y2)\n",
    "    y=np.reshape(y,(len(y),))\n",
    "    print(\"Accuracy of the test set: {:0.4f}\".format(accuracy(y,y_hat)))\n",
    "#def accuracy(self,y):\n",
    "   # return np.mean(y == y_hat)\n",
    "\n",
    "\n"
   ]
  },
  {
   "cell_type": "markdown",
   "metadata": {},
   "source": [
    "Tried quite a few different amount of nuerons with a couple more hidden layers, but landed on 1 hidden layer. 250 nuerons"
   ]
  },
  {
   "cell_type": "code",
   "execution_count": 373,
   "metadata": {},
   "outputs": [
    {
     "name": "stdout",
     "output_type": "stream",
     "text": [
      "Accuracy: 0.6821\n",
      "Accuracy of the validate set: 0.6789\n",
      "Accuracy of the test set: 0.6768\n"
     ]
    },
    {
     "data": {
      "image/png": "[encoded data removed]",
      "text/plain": [
       "<Figure size 432x288 with 1 Axes>"
      ]
     },
     "metadata": {
      "needs_background": "light"
     },
     "output_type": "display_data"
    }
   ],
   "source": [
    "ANN_RMS_Nest(np.array(train_X),train_y,np.array(validate_X),validate_y,np.array(test_X),test_y,eta = 1e-4,M=50,epochs=100)"
   ]
  },
  {
   "cell_type": "code",
   "execution_count": 356,
   "metadata": {},
   "outputs": [
    {
     "name": "stdout",
     "output_type": "stream",
     "text": [
      "Accuracy: 0.9637\n",
      "Accuracy of the validate set: 0.9175\n",
      "Accuracy of the test set: 0.9215\n"
     ]
    },
    {
     "data": {
      "image/png": "[encoded data removed]",
      "text/plain": [
       "<Figure size 432x288 with 1 Axes>"
      ]
     },
     "metadata": {
      "needs_background": "light"
     },
     "output_type": "display_data"
    }
   ],
   "source": [
    "ANN_RMS_Nest(np.array(train_X),train_y,np.array(validate_X),validate_y,np.array(test_X),test_y,eta = 1e-4,M=250,epochs=1500)"
   ]
  },
  {
   "cell_type": "code",
   "execution_count": null,
   "metadata": {},
   "outputs": [],
   "source": []
  }
 ],
 "metadata": {
  "kernelspec": {
   "display_name": "Python 3",
   "language": "python",
   "name": "python3"
  },
  "language_info": {
   "codemirror_mode": {
    "name": "ipython",
    "version": 3
   },
   "file_extension": ".py",
   "mimetype": "text/x-python",
   "name": "python",
   "nbconvert_exporter": "python",
   "pygments_lexer": "ipython3",
   "version": "3.5.2"
  }
 },
 "nbformat": 4,
 "nbformat_minor": 2
}
