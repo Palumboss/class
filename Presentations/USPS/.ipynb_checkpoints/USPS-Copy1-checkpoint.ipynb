{
 "cells": [
  {
   "cell_type": "code",
   "execution_count": 16,
   "metadata": {},
   "outputs": [],
   "source": [
    "import pandas as pd\n",
    "import numpy as np\n",
    "import matplotlib.pyplot as plt\n",
    "%matplotlib inline"
   ]
  },
  {
   "cell_type": "code",
   "execution_count": 17,
   "metadata": {},
   "outputs": [],
   "source": [
    "digits = pd.read_csv(\"/home/techfield/class/Presentations/USPS/usps_digit_recognizer.csv\")"
   ]
  },
  {
   "cell_type": "code",
   "execution_count": 18,
   "metadata": {},
   "outputs": [
    {
     "data": {
      "text/plain": [
       "(42000, 785)"
      ]
     },
     "execution_count": 18,
     "metadata": {},
     "output_type": "execute_result"
    }
   ],
   "source": [
    "digits.shape"
   ]
  },
  {
   "cell_type": "code",
   "execution_count": 19,
   "metadata": {},
   "outputs": [],
   "source": [
    "D = 785\n",
    "K = 10"
   ]
  },
  {
   "cell_type": "code",
   "execution_count": 20,
   "metadata": {},
   "outputs": [],
   "source": [
    "def shapes(x):\n",
    "    x =  x.reshape([28,28])\n",
    "    \n",
    "    nzeros = x.nonzero()\n",
    "    \n",
    "    i,j = nzeros[0].min(), nzeros[0].max()\n",
    "    m,n = nzeros[1].min(), nzeros[1].max()\n",
    "    \n",
    "    height = j-i\n",
    "    width = n-m\n",
    "    \n",
    "    if height % 2 ==1:j+= 1\n",
    "    if width % 2 ==1: n+=1\n",
    "        \n",
    "    return x[i:j,m:n]\n",
    "\n",
    "def quadrent_1_sum(x):\n",
    "    x = shapes(x)\n",
    "    i,j = x.shape[0]//2,x.shape[1]//2\n",
    "    q1 = x[0:i,0:j]\n",
    "    return q1.sum\n",
    "\n",
    "def top_half(x):\n",
    "    x = shapes(x)\n",
    "    i,l, = x.shape[0]//2,x.shape[1]//2\n",
    "    q2 = x[0:i,j:2*j]\n",
    "    return q2.sum"
   ]
  },
  {
   "cell_type": "code",
   "execution_count": 21,
   "metadata": {},
   "outputs": [],
   "source": [
    "#digits= digits.drop(\"label\",axis=1)"
   ]
  },
  {
   "cell_type": "code",
   "execution_count": 22,
   "metadata": {},
   "outputs": [],
   "source": [
    "#N =digits.shape[0]\n",
    "\n",
    "#E = np.column_stack((digits, np.array([quadrent_1_sum(digits[i,:]) for i in range(N)])))"
   ]
  },
  {
   "cell_type": "code",
   "execution_count": 23,
   "metadata": {},
   "outputs": [],
   "source": [
    "#Training set\n",
    "seed = 10\n",
    "train1=digits.sample(frac=.6,random_state = seed)\n",
    "training_target = train1.label.values\n",
    "train= train1.drop(\"label\",axis=1)\n",
    "cols = train.columns\n",
    "train['> zero'] = train[cols].gt(0).sum(axis=1)\n",
    "trainmax= train.max(1)\n",
    "train = train / trainmax[:,None]\n",
    "\n",
    "\n",
    "#Validate set\n",
    "validate_test = digits.loc[~digits.index.isin(train1.index)]\n",
    "\n",
    "validate_origin = validate_test.sample(frac=.5,random_state = seed )\n",
    "validate1 = validate_origin.drop(\"label\",axis=1)\n",
    "validate_target = validate_origin.label.values\n",
    "validate = validate1\n",
    "cols = validate.columns\n",
    "validate['> zero'] = validate[cols].gt(0).sum(axis=1)\n",
    "valmax= validate.max(1)\n",
    "validate = validate / valmax[:,None]\n",
    "\n",
    "#Test set\n",
    "test = validate_test.loc[~validate_test.index.isin(validate_origin.index)]\n",
    "test_no_y = test.drop(\"label\",axis=1)\n",
    "test_target = test.label.values\n",
    "test = test_no_y\n",
    "cols = test.columns\n",
    "test['> zero'] = test[cols].gt(0).sum(axis=1)\n",
    "testmax= test.max(1)\n",
    "test = test / testmax[:,None]"
   ]
  },
  {
   "cell_type": "code",
   "execution_count": 24,
   "metadata": {},
   "outputs": [
    {
     "data": {
      "text/plain": [
       "(8400, 785)"
      ]
     },
     "execution_count": 24,
     "metadata": {},
     "output_type": "execute_result"
    }
   ],
   "source": [
    "validate.shape"
   ]
  },
  {
   "cell_type": "code",
   "execution_count": 25,
   "metadata": {},
   "outputs": [
    {
     "data": {
      "text/plain": [
       "(8400, 785)"
      ]
     },
     "execution_count": 25,
     "metadata": {},
     "output_type": "execute_result"
    }
   ],
   "source": [
    "test.shape"
   ]
  },
  {
   "cell_type": "code",
   "execution_count": 26,
   "metadata": {},
   "outputs": [],
   "source": [
    "def one_hot_encode(y):\n",
    "    N = len(y)\n",
    "    K = len(set(y))\n",
    "    \n",
    "    Y = np.zeros((N,K))\n",
    "    \n",
    "    for i in range(N):\n",
    "      #  try:\n",
    "        Y[i,y[i]] = 1\n",
    "       # except:\n",
    "         #   pdb.set_trace()\n",
    "        \n",
    "    return Y\n",
    "\n",
    "def softmax(H):\n",
    "    eH = np.exp(H)\n",
    "    return eH/eH.sum(axis = 1, keepdims = True)\n",
    "\n",
    "def cross_entropy(Y,P_hat):\n",
    "    return -np.sum(Y*np.log(P_hat))\n",
    "\n",
    "def accuracy(y,P_hat):\n",
    "    return np.mean(y == P_hat.argmax(axis =1))\n",
    "\n",
    "\n",
    "    "
   ]
  },
  {
   "cell_type": "code",
   "execution_count": 27,
   "metadata": {},
   "outputs": [],
   "source": [
    "PHI = np.column_stack((np.ones((25200,1)), train))\n",
    "Y = one_hot_encode(training_target)"
   ]
  },
  {
   "cell_type": "code",
   "execution_count": 28,
   "metadata": {},
   "outputs": [
    {
     "data": {
      "text/plain": [
       "(25200, 786)"
      ]
     },
     "execution_count": 28,
     "metadata": {},
     "output_type": "execute_result"
    }
   ],
   "source": [
    "PHI.shape"
   ]
  },
  {
   "cell_type": "code",
   "execution_count": 29,
   "metadata": {},
   "outputs": [
    {
     "data": {
      "text/plain": [
       "(25200, 10)"
      ]
     },
     "execution_count": 29,
     "metadata": {},
     "output_type": "execute_result"
    }
   ],
   "source": [
    "Y.shape"
   ]
  },
  {
   "cell_type": "code",
   "execution_count": 31,
   "metadata": {},
   "outputs": [
    {
     "data": {
      "text/plain": [
       "[<matplotlib.lines.Line2D at 0x7f340d370cc0>]"
      ]
     },
     "execution_count": 31,
     "metadata": {},
     "output_type": "execute_result"
    },
    {
     "data": {
      "image/png": "[encoded data removed]",
      "text/plain": [
       "<Figure size 432x288 with 1 Axes>"
      ]
     },
     "metadata": {
      "needs_background": "light"
     },
     "output_type": "display_data"
    }
   ],
   "source": [
    "W = np.random.randn(D+1,K)\n",
    "\n",
    "eta = 5e-5\n",
    "epochs = int(5e3)\n",
    "J = np.zeros(epochs)\n",
    "\n",
    "for epoch in range(epochs):\n",
    "    P_hat = softmax(PHI.dot(W))\n",
    "    J[epoch] = cross_entropy(Y,P_hat)\n",
    "    W -= eta*PHI.T.dot(P_hat - Y)\n",
    "    \n",
    "plt.figure()\n",
    "plt.plot(J)"
   ]
  },
  {
   "cell_type": "code",
   "execution_count": 32,
   "metadata": {},
   "outputs": [
    {
     "name": "stdout",
     "output_type": "stream",
     "text": [
      "Accuracy: 0.9390\n"
     ]
    }
   ],
   "source": [
    "#Accuracy for test set\n",
    "print(\"Accuracy: {:0.4f}\".format(accuracy(training_target,P_hat)))"
   ]
  },
  {
   "cell_type": "code",
   "execution_count": 33,
   "metadata": {},
   "outputs": [
    {
     "data": {
      "text/plain": [
       "(8400, 785)"
      ]
     },
     "execution_count": 33,
     "metadata": {},
     "output_type": "execute_result"
    }
   ],
   "source": [
    "validate.shape"
   ]
  },
  {
   "cell_type": "code",
   "execution_count": 34,
   "metadata": {},
   "outputs": [],
   "source": [
    "validate = np.column_stack((np.ones((8400,1)), validate))\n",
    "#Y = one_hot_encode(validate_target)"
   ]
  },
  {
   "cell_type": "code",
   "execution_count": 35,
   "metadata": {},
   "outputs": [],
   "source": [
    "p_hat = validate.dot(W)"
   ]
  },
  {
   "cell_type": "code",
   "execution_count": 36,
   "metadata": {},
   "outputs": [
    {
     "name": "stdout",
     "output_type": "stream",
     "text": [
      "Accuracy: 0.9017\n"
     ]
    }
   ],
   "source": [
    "print(\"Accuracy: {:0.4f}\".format(accuracy(validate_target,p_hat)))"
   ]
  },
  {
   "cell_type": "code",
   "execution_count": 37,
   "metadata": {},
   "outputs": [
    {
     "data": {
      "text/plain": [
       "(8400, 785)"
      ]
     },
     "execution_count": 37,
     "metadata": {},
     "output_type": "execute_result"
    }
   ],
   "source": [
    "test.shape"
   ]
  },
  {
   "cell_type": "code",
   "execution_count": 38,
   "metadata": {},
   "outputs": [],
   "source": [
    "test = np.column_stack((np.ones((8400,1)), test))"
   ]
  },
  {
   "cell_type": "code",
   "execution_count": 39,
   "metadata": {},
   "outputs": [],
   "source": [
    "p_hat = test.dot(W)"
   ]
  },
  {
   "cell_type": "code",
   "execution_count": 40,
   "metadata": {},
   "outputs": [
    {
     "name": "stdout",
     "output_type": "stream",
     "text": [
      "Accuracy: 0.9099\n"
     ]
    }
   ],
   "source": [
    "print(\"Accuracy: {:0.4f}\".format(accuracy(test_target,p_hat)))"
   ]
  },
  {
   "cell_type": "code",
   "execution_count": null,
   "metadata": {},
   "outputs": [],
   "source": []
  }
 ],
 "metadata": {
  "kernelspec": {
   "display_name": "Python 3",
   "language": "python",
   "name": "python3"
  },
  "language_info": {
   "codemirror_mode": {
    "name": "ipython",
    "version": 3
   },
   "file_extension": ".py",
   "mimetype": "text/x-python",
   "name": "python",
   "nbconvert_exporter": "python",
   "pygments_lexer": "ipython3",
   "version": "3.5.2"
  }
 },
 "nbformat": 4,
 "nbformat_minor": 2
}
