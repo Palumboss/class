{
 "cells": [
  {
   "cell_type": "code",
   "execution_count": 1,
   "metadata": {},
   "outputs": [],
   "source": [
    "import numpy as np\n",
    "import matplotlib.pyplot as plt\n",
    "from mpl_toolkits.mplot3d.axes3d import Axes3D\n",
    "import pandas as pd\n",
    "import os\n",
    "%matplotlib inline"
   ]
  },
  {
   "cell_type": "code",
   "execution_count": 28,
   "metadata": {},
   "outputs": [],
   "source": [
    "# This class can find w,y-hat, and R-squared\n",
    "class reggression:\n",
    "   \n",
    "    def w(self,PHI,Y):\n",
    "        w = np.linalg.solve(PHI.T.dot(PHI), PHI.T.dot(Y))\n",
    "        return (w)\n",
    "    \n",
    "    def y_hat(self,w):\n",
    "        y_hat = PHI.dot(w)\n",
    "        return (y_hat)\n",
    "    \n",
    "    def R2(self,y,y_hat):\n",
    "        R2 = 1 - np.sum((y-y_hat)**2)/np.sum((y-y.mean())**2)\n",
    "        return (R2)\n",
    "        "
   ]
  },
  {
   "cell_type": "code",
   "execution_count": 42,
   "metadata": {},
   "outputs": [],
   "source": [
    "#Simulate Data\n",
    "N = 100\n",
    "k=2\n",
    "x = np.linspace(0,10,N)\n",
    "y = 3.6512 + 0.98473*x + 4.21098*x*x +np.random.rand(N)*30\n",
    "\n",
    "PHI = np.vstack((np.ones(N),x,x*x)).T\n"
   ]
  },
  {
   "cell_type": "code",
   "execution_count": 43,
   "metadata": {},
   "outputs": [],
   "source": [
    "p= reggression()"
   ]
  },
  {
   "cell_type": "code",
   "execution_count": 44,
   "metadata": {},
   "outputs": [
    {
     "data": {
      "text/plain": [
       "array([21.24826905, -0.92190733,  4.42360304])"
      ]
     },
     "execution_count": 44,
     "metadata": {},
     "output_type": "execute_result"
    }
   ],
   "source": [
    "w=p.w(PHI,y)\n",
    "w"
   ]
  },
  {
   "cell_type": "code",
   "execution_count": 45,
   "metadata": {},
   "outputs": [
    {
     "data": {
      "text/plain": [
       "array([ 21.24826905,  21.2002813 ,  21.24256195,  21.37511101,\n",
       "        21.59792846,  21.91101432,  22.31436858,  22.80799124,\n",
       "        23.3918823 ,  24.06604177,  24.83046964,  25.68516591,\n",
       "        26.63013058,  27.66536365,  28.79086513,  30.00663501,\n",
       "        31.31267329,  32.70897997,  34.19555505,  35.77239854,\n",
       "        37.43951043,  39.19689072,  41.04453941,  42.98245651,\n",
       "        45.010642  ,  47.1290959 ,  49.3378182 ,  51.63680891,\n",
       "        54.02606801,  56.50559552,  59.07539143,  61.73545574,\n",
       "        64.48578845,  67.32638957,  70.25725909,  73.27839701,\n",
       "        76.38980333,  79.59147805,  82.88342118,  86.26563271,\n",
       "        89.73811264,  93.30086097,  96.9538777 , 100.69716284,\n",
       "       104.53071638, 108.45453832, 112.46862866, 116.57298741,\n",
       "       120.76761455, 125.0525101 , 129.42767405, 133.89310641,\n",
       "       138.44880716, 143.09477632, 147.83101388, 152.65751984,\n",
       "       157.57429421, 162.58133697, 167.67864814, 172.86622771,\n",
       "       178.14407568, 183.51219205, 188.97057683, 194.51923001,\n",
       "       200.15815159, 205.88734157, 211.70679996, 217.61652674,\n",
       "       223.61652193, 229.70678552, 235.88731751, 242.15811791,\n",
       "       248.51918671, 254.9705239 , 261.51212951, 268.14400351,\n",
       "       274.86614591, 281.67855672, 288.58123593, 295.57418354,\n",
       "       302.65739956, 309.83088397, 317.09463679, 324.44865801,\n",
       "       331.89294763, 339.42750566, 347.05233208, 354.76742691,\n",
       "       362.57279014, 370.46842177, 378.45432181, 386.53049024,\n",
       "       394.69692708, 402.95363232, 411.30060597, 419.73784801,\n",
       "       428.26535846, 436.88313731, 445.59118456, 454.38950021])"
      ]
     },
     "execution_count": 45,
     "metadata": {},
     "output_type": "execute_result"
    }
   ],
   "source": [
    "y_hat=p.y_hat(w)\n",
    "y_hat"
   ]
  },
  {
   "cell_type": "code",
   "execution_count": 46,
   "metadata": {},
   "outputs": [
    {
     "data": {
      "text/plain": [
       "0.9954966596874384"
      ]
     },
     "execution_count": 46,
     "metadata": {},
     "output_type": "execute_result"
    }
   ],
   "source": [
    "p.R2(y,y_hat)"
   ]
  },
  {
   "cell_type": "code",
   "execution_count": null,
   "metadata": {},
   "outputs": [],
   "source": []
  }
 ],
 "metadata": {
  "kernelspec": {
   "display_name": "Python 3",
   "language": "python",
   "name": "python3"
  },
  "language_info": {
   "codemirror_mode": {
    "name": "ipython",
    "version": 3
   },
   "file_extension": ".py",
   "mimetype": "text/x-python",
   "name": "python",
   "nbconvert_exporter": "python",
   "pygments_lexer": "ipython3",
   "version": "3.5.2"
  }
 },
 "nbformat": 4,
 "nbformat_minor": 2
}
