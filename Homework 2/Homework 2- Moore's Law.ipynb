{
 "cells": [
  {
   "cell_type": "code",
   "execution_count": 1,
   "metadata": {},
   "outputs": [],
   "source": [
    "import numpy as np\n",
    "import math\n",
    "import matplotlib.pyplot as plt\n",
    "from mpl_toolkits.mplot3d.axes3d import Axes3D\n",
    "import pandas as pd\n",
    "import os\n",
    "%matplotlib inline"
   ]
  },
  {
   "cell_type": "markdown",
   "metadata": {},
   "source": [
    "Problem: We are to show the feasability of Moore's Law: Moore's Law is the observation that the number \n",
    "of transistors on a chip doubles every two years. So we will only be using the year as a predictor.\n",
    "We will be using the number of transistors as our target, so this will only involve simple linear regression."
   ]
  },
  {
   "cell_type": "code",
   "execution_count": 2,
   "metadata": {},
   "outputs": [],
   "source": [
    "#Load data\n",
    "#btw, I manually added column headers and added the file to the submission\n",
    "data = pd.read_csv(\"moore2.csv\")"
   ]
  },
  {
   "cell_type": "code",
   "execution_count": 3,
   "metadata": {},
   "outputs": [
    {
     "name": "stdout",
     "output_type": "stream",
     "text": [
      "[[-9.88246513e+02]\n",
      " [ 5.06448822e-01]]\n",
      "0.9529442852285763\n"
     ]
    }
   ],
   "source": [
    "#\n",
    "#Clean data\n",
    "\n",
    "\n",
    "data = data.replace(regex=[\" \", \",\", \"~\",\"cca\",r\"\\[...\",r\"\\[..\"],value=\"\")\n",
    "data.year=data.year.astype(int)\n",
    "data.N=data.N.astype(int)\n",
    "\n",
    "#Set up Equation\n",
    "N=len(data)\n",
    "\n",
    "\n",
    "\n",
    "X= np.zeros((N,1))\n",
    "X[:,0] = data.year.values\n",
    "\n",
    "X = np.column_stack((np.ones((N,1)),X)) #102 x 2 Matrix\n",
    "\n",
    "y = np.zeros((N,1))\n",
    "y[:,0] = data.N.values #Target Vector\n",
    "\n",
    "y = np.log2(y) #Tried a couple of differet transforms, but I landed on the log base 2 function\n",
    "\n",
    "\n",
    "w = np.linalg.solve(X.T.dot(X), X.T.dot(y)) #Gets our model in a 2 x 1 vector\n",
    "y_hat = X.dot(w)\n",
    "\n",
    "\n",
    "R2 = 1 - np.sum((y-y_hat)**2)/np.sum((y-y.mean())**2) #Gets our R^2\n",
    "print(w)\n",
    "print(R2)"
   ]
  },
  {
   "cell_type": "markdown",
   "metadata": {},
   "source": [
    "Our regression after our transform turns out to be\n",
    "#Number of Transistors = -988 + 0.506 * years\n",
    "#and our model describes 95.29% of the variance according to our R-squared value.\n",
    "Because of the transform, log(base2)(X) + 1 = log(base2)(2*X)\n",
    "So, since the slope is about .5, the amount of transistors is doubling every 2 years\n",
    "Seemingly, Moore's Law is proven to be correct"
   ]
  }
 ],
 "metadata": {
  "kernelspec": {
   "display_name": "Python 3",
   "language": "python",
   "name": "python3"
  },
  "language_info": {
   "codemirror_mode": {
    "name": "ipython",
    "version": 3
   },
   "file_extension": ".py",
   "mimetype": "text/x-python",
   "name": "python",
   "nbconvert_exporter": "python",
   "pygments_lexer": "ipython3",
   "version": "3.5.2"
  }
 },
 "nbformat": 4,
 "nbformat_minor": 2
}
