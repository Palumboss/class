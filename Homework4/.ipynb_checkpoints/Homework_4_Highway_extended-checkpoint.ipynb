{
 "cells": [
  {
   "cell_type": "code",
   "execution_count": 127,
   "metadata": {},
   "outputs": [],
   "source": [
    "import numpy as np\n",
    "import matplotlib.pyplot as plt\n",
    "from mpl_toolkits.mplot3d.axes3d import Axes3D\n",
    "import pandas as pd\n",
    "import os\n",
    "%matplotlib inline"
   ]
  },
  {
   "cell_type": "markdown",
   "metadata": {},
   "source": [
    "Build a linear regression model which uses all of the predictors to predict highway fuel economy.\n"
   ]
  },
  {
   "cell_type": "code",
   "execution_count": 128,
   "metadata": {},
   "outputs": [
    {
     "name": "stdout",
     "output_type": "stream",
     "text": [
      "[ 4.77536085e+01 -5.83859672e-01  1.96416929e-01 -9.61011248e+02\n",
      " -4.02933261e+02  8.07634743e+02  1.18785792e+03 -3.37803200e+02\n",
      " -8.10911917e+02 -6.23242871e+02  9.28912448e+03 -1.96007373e+03\n",
      " -2.86355622e+03  1.59312627e+02  1.91528727e+03 -9.36915684e+01\n",
      "  6.14943828e+02  3.49765481e+02 -5.62044649e+02  1.08434984e+03\n",
      "  1.17560270e+03  1.17333333e+03 -3.83825721e+01 -6.69405592e+02\n",
      " -4.95597254e+02 -4.93718464e+02 -7.71938552e+03  4.61155766e+02\n",
      " -4.88549653e+02 -3.96241167e+03  1.46696029e+01 -7.54953429e+02\n",
      " -2.26102360e+03 -1.13430677e+03 -3.65931039e+02  1.50352015e+02\n",
      "  6.75790508e+02 -1.79459167e+03 -2.29034498e+02  3.05337399e+02\n",
      " -2.28139179e+02  4.54894075e+02 -5.61988739e+02  5.22249405e+02\n",
      " -4.02686059e+01  2.91713362e+03 -2.10305237e+03  8.87263428e+02\n",
      " -2.28071824e+02 -2.29580087e+02 -1.05753733e+02  1.39167626e+01\n",
      " -9.23589535e+03  9.29612907e+02  9.28610116e+02  2.07287466e+02\n",
      "  5.23794740e+01  5.02014108e+01  4.99591439e+01  4.93211009e+01\n",
      " -2.48219143e+02 -2.49904860e+02 -2.47669409e+02 -2.47462594e+02\n",
      " -2.47820736e+02 -2.47371606e+02 -2.46541727e+02 -2.47721418e+02\n",
      " -2.46924944e+02 -2.47867528e+02 -2.98572883e+02 -2.04798361e+02\n",
      "  8.28661356e+02  1.64484863e+02  1.70979340e+02  1.56840619e+02\n",
      "  1.60290537e+02  1.61889579e+02  3.16181549e+03 -2.94093357e+02\n",
      " -2.91754949e+02  6.73598840e+03 -9.09005339e+02 -2.93063804e+02\n",
      " -1.39636328e+02]\n",
      "0.9559765506330824\n"
     ]
    }
   ],
   "source": [
    "\n",
    "\n",
    "#Read in data\n",
    "data = pd.read_csv(\"/home/techfield/Documents/Class Work/Homework/Homework 2/fuel_economy.csv\") \n",
    "\n",
    "#Set up equation\n",
    "N=len(data)\n",
    "\n",
    "\n",
    "\n",
    "dum=pd.get_dummies(data,columns=[\"manufacturer\",\"model\",\"cyl\",\"trans\",\"drv\",\"fl\",\"class\"])\n",
    "dum = dum.drop(columns=['hwy', 'cty']) #234 x 84\n",
    "\n",
    "\n",
    "X = np.column_stack((np.ones((N,1)),dum)) #234 x 85 Matrix\n",
    "\n",
    "y = np.array(data.hwy)\n",
    "\n",
    "\n",
    "w = np.linalg.solve(X.T.dot(X), X.T.dot(y)) #Reshape y.reshape([N,1])\n",
    "y_hat = X.dot(w)\n",
    "\n",
    "\n",
    "R2 = 1 - np.sum((y-y_hat)**2)/np.sum((y-y.mean())**2) #Gets our R^2\n",
    "print(w)\n",
    "print(R2)"
   ]
  },
  {
   "cell_type": "markdown",
   "metadata": {},
   "source": [
    "We can see that our R^2 is 0.956, which is very good. We used many predictors, so this might explain why the R^2 is looking so good. \n",
    "Our model shows that the mean is about 47 mpg with differences based on all the different predictors."
   ]
  }
 ],
 "metadata": {
  "kernelspec": {
   "display_name": "Python 3",
   "language": "python",
   "name": "python3"
  },
  "language_info": {
   "codemirror_mode": {
    "name": "ipython",
    "version": 3
   },
   "file_extension": ".py",
   "mimetype": "text/x-python",
   "name": "python",
   "nbconvert_exporter": "python",
   "pygments_lexer": "ipython3",
   "version": "3.5.2"
  }
 },
 "nbformat": 4,
 "nbformat_minor": 2
}
