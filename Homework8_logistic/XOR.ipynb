{
 "cells": [
  {
   "cell_type": "code",
   "execution_count": 1,
   "metadata": {},
   "outputs": [],
   "source": [
    "import numpy as np\n",
    "import matplotlib.pyplot as plt\n",
    "from mpl_toolkits.mplot3d.axes3d import Axes3D\n",
    "import pandas as pd\n",
    "import os\n",
    "%matplotlib inline"
   ]
  },
  {
   "cell_type": "code",
   "execution_count": 2,
   "metadata": {},
   "outputs": [
    {
     "data": {
      "text/html": [
       "<div>\n",
       "<style scoped>\n",
       "    .dataframe tbody tr th:only-of-type {\n",
       "        vertical-align: middle;\n",
       "    }\n",
       "\n",
       "    .dataframe tbody tr th {\n",
       "        vertical-align: top;\n",
       "    }\n",
       "\n",
       "    .dataframe thead th {\n",
       "        text-align: right;\n",
       "    }\n",
       "</style>\n",
       "<table border=\"1\" class=\"dataframe\">\n",
       "  <thead>\n",
       "    <tr style=\"text-align: right;\">\n",
       "      <th></th>\n",
       "      <th>x1</th>\n",
       "      <th>x2</th>\n",
       "      <th>y</th>\n",
       "    </tr>\n",
       "  </thead>\n",
       "  <tbody>\n",
       "    <tr>\n",
       "      <th>0</th>\n",
       "      <td>1.907567</td>\n",
       "      <td>0.325865</td>\n",
       "      <td>0</td>\n",
       "    </tr>\n",
       "    <tr>\n",
       "      <th>1</th>\n",
       "      <td>2.270544</td>\n",
       "      <td>2.258817</td>\n",
       "      <td>0</td>\n",
       "    </tr>\n",
       "    <tr>\n",
       "      <th>2</th>\n",
       "      <td>2.323086</td>\n",
       "      <td>1.466601</td>\n",
       "      <td>0</td>\n",
       "    </tr>\n",
       "    <tr>\n",
       "      <th>3</th>\n",
       "      <td>0.752419</td>\n",
       "      <td>2.684305</td>\n",
       "      <td>0</td>\n",
       "    </tr>\n",
       "    <tr>\n",
       "      <th>4</th>\n",
       "      <td>2.837229</td>\n",
       "      <td>2.238149</td>\n",
       "      <td>0</td>\n",
       "    </tr>\n",
       "    <tr>\n",
       "      <th>5</th>\n",
       "      <td>1.758979</td>\n",
       "      <td>3.873314</td>\n",
       "      <td>0</td>\n",
       "    </tr>\n",
       "    <tr>\n",
       "      <th>6</th>\n",
       "      <td>-0.153115</td>\n",
       "      <td>2.294020</td>\n",
       "      <td>0</td>\n",
       "    </tr>\n",
       "    <tr>\n",
       "      <th>7</th>\n",
       "      <td>3.385935</td>\n",
       "      <td>1.058756</td>\n",
       "      <td>0</td>\n",
       "    </tr>\n",
       "    <tr>\n",
       "      <th>8</th>\n",
       "      <td>1.981424</td>\n",
       "      <td>3.041335</td>\n",
       "      <td>0</td>\n",
       "    </tr>\n",
       "    <tr>\n",
       "      <th>9</th>\n",
       "      <td>1.242928</td>\n",
       "      <td>-0.075891</td>\n",
       "      <td>0</td>\n",
       "    </tr>\n",
       "  </tbody>\n",
       "</table>\n",
       "</div>"
      ],
      "text/plain": [
       "         x1        x2  y\n",
       "0  1.907567  0.325865  0\n",
       "1  2.270544  2.258817  0\n",
       "2  2.323086  1.466601  0\n",
       "3  0.752419  2.684305  0\n",
       "4  2.837229  2.238149  0\n",
       "5  1.758979  3.873314  0\n",
       "6 -0.153115  2.294020  0\n",
       "7  3.385935  1.058756  0\n",
       "8  1.981424  3.041335  0\n",
       "9  1.242928 -0.075891  0"
      ]
     },
     "execution_count": 2,
     "metadata": {},
     "output_type": "execute_result"
    }
   ],
   "source": [
    "data = pd.read_csv(\"/home/techfield/class/Homework8_logistic/xor.csv\") \n",
    "data[:10]"
   ]
  },
  {
   "cell_type": "code",
   "execution_count": 3,
   "metadata": {},
   "outputs": [],
   "source": [
    "y = data.iloc[:,2]"
   ]
  },
  {
   "cell_type": "code",
   "execution_count": 4,
   "metadata": {},
   "outputs": [],
   "source": [
    "#X = np.column_stack((np.ones((4000,1)), data))\n",
    "X_1 = data['x1']\n",
    "X_2 = data['x2']\n",
    "X_3 = X_1 * X_2"
   ]
  },
  {
   "cell_type": "code",
   "execution_count": 5,
   "metadata": {},
   "outputs": [],
   "source": [
    "data1 = np.column_stack((np.ones((4000,1)), X_1,X_2,X_3))"
   ]
  },
  {
   "cell_type": "code",
   "execution_count": 6,
   "metadata": {},
   "outputs": [],
   "source": [
    "X = data1\n"
   ]
  },
  {
   "cell_type": "code",
   "execution_count": 7,
   "metadata": {},
   "outputs": [],
   "source": [
    "def sigmoid(h):\n",
    "    return 1/(1 + np.exp(-h))\n",
    "\n",
    "def cross_entropy(y, p_hat):\n",
    "    return -np.sum(y*np.log(p_hat) + (1 - y)*np.log(1 - p_hat))\n",
    "\n",
    "def accuracy(y, p_hat):\n",
    "    return np.mean(y == np.round(p_hat))"
   ]
  },
  {
   "cell_type": "code",
   "execution_count": 22,
   "metadata": {},
   "outputs": [
    {
     "name": "stderr",
     "output_type": "stream",
     "text": [
      "/home/techfield/.local/lib/python3.5/site-packages/ipykernel_launcher.py:5: RuntimeWarning: divide by zero encountered in log\n",
      "  \"\"\"\n"
     ]
    },
    {
     "data": {
      "text/plain": [
       "0       2.943201e-01\n",
       "1       1.309059e-04\n",
       "2       2.903739e-03\n",
       "3       2.746461e-02\n",
       "4       1.572090e-05\n",
       "5       5.831096e-06\n",
       "6       6.417119e-01\n",
       "7       2.384617e-03\n",
       "8       2.498092e-05\n",
       "9       5.868683e-01\n",
       "10      5.060101e-03\n",
       "11      6.668837e-01\n",
       "12      6.099935e-06\n",
       "13      2.524757e-04\n",
       "14      2.795585e-03\n",
       "15      1.309012e-01\n",
       "16      3.591169e-04\n",
       "17      1.008015e-02\n",
       "18      2.379095e-08\n",
       "19      3.756457e-01\n",
       "20      3.359372e-02\n",
       "21      2.494241e-02\n",
       "22      1.503389e-03\n",
       "23      1.736415e-04\n",
       "24      1.044245e-01\n",
       "25      1.223299e-01\n",
       "26      1.060056e-03\n",
       "27      7.259178e-04\n",
       "28      2.049293e-01\n",
       "29      2.516939e-05\n",
       "            ...     \n",
       "3970   -7.684634e-05\n",
       "3971   -5.079229e-04\n",
       "3972   -1.271656e-03\n",
       "3973   -1.653983e-03\n",
       "3974   -1.718825e-04\n",
       "3975   -8.544384e-06\n",
       "3976   -1.194217e-01\n",
       "3977   -2.114706e-06\n",
       "3978   -5.467088e-03\n",
       "3979   -3.563496e-04\n",
       "3980   -1.969595e-06\n",
       "3981   -1.731613e-05\n",
       "3982   -1.642013e-03\n",
       "3983   -9.284563e-03\n",
       "3984   -4.803833e-02\n",
       "3985   -8.270654e-07\n",
       "3986   -4.019710e-04\n",
       "3987   -1.447075e-02\n",
       "3988   -1.173695e-02\n",
       "3989   -3.206742e-03\n",
       "3990   -1.717211e-01\n",
       "3991   -4.043469e-02\n",
       "3992   -4.832322e-05\n",
       "3993   -9.869759e-01\n",
       "3994   -7.990586e-05\n",
       "3995   -1.981149e-05\n",
       "3996   -3.277692e-02\n",
       "3997   -9.897082e-08\n",
       "3998   -2.681879e-07\n",
       "3999   -2.306161e-02\n",
       "Name: y, Length: 4000, dtype: float64"
      ]
     },
     "execution_count": 22,
     "metadata": {},
     "output_type": "execute_result"
    },
    {
     "data": {
      "image/png": "[encoded data removed]",
      "text/plain": [
       "<Figure size 432x288 with 1 Axes>"
      ]
     },
     "metadata": {
      "needs_background": "light"
     },
     "output_type": "display_data"
    }
   ],
   "source": [
    "w = np.random.randn(4)\n",
    "\n",
    "eta = 1e-3\n",
    "epochs = int(1e4)\n",
    "J = [0]*epochs\n",
    "\n",
    "for epoch in range(epochs):\n",
    "    p_hat = sigmoid(X.dot(w))\n",
    "    J[epoch] = cross_entropy(y, p_hat)\n",
    "    w -= eta*X.T.dot(p_hat - y)\n",
    "    \n",
    "plt.figure()\n",
    "plt.plot(J)\n",
    "\n",
    "p_hat-y"
   ]
  },
  {
   "cell_type": "code",
   "execution_count": 23,
   "metadata": {},
   "outputs": [
    {
     "data": {
      "text/plain": [
       "array([ 0.05859475,  0.0977878 , -0.03772141, -1.78139628])"
      ]
     },
     "execution_count": 23,
     "metadata": {},
     "output_type": "execute_result"
    }
   ],
   "source": [
    "w"
   ]
  },
  {
   "cell_type": "code",
   "execution_count": 10,
   "metadata": {},
   "outputs": [
    {
     "name": "stdout",
     "output_type": "stream",
     "text": [
      "Accuracy: 0.9565\n"
     ]
    }
   ],
   "source": [
    "p_hat = sigmoid(X.dot(w))\n",
    "\n",
    "print(\"Accuracy: {:0.4f}\".format(accuracy(y,p_hat)))"
   ]
  },
  {
   "cell_type": "code",
   "execution_count": 11,
   "metadata": {},
   "outputs": [
    {
     "data": {
      "text/plain": [
       "(-6, 6)"
      ]
     },
     "execution_count": 11,
     "metadata": {},
     "output_type": "execute_result"
    },
    {
     "data": {
      "image/png": "[encoded data removed]",
      "text/plain": [
       "<Figure size 432x288 with 1 Axes>"
      ]
     },
     "metadata": {
      "needs_background": "light"
     },
     "output_type": "display_data"
    }
   ],
   "source": [
    "x1 = np.linspace(-5,5,2001)\n",
    "x2 = (-w[0] - x1*(w[1])) / (w[2] + x1*(w[3]))\n",
    "\n",
    "fig,ax = plt.subplots()\n",
    "ax.scatter(X[:,1], X[:,2], c = y)\n",
    "ax.plot(x1, x2, color = \"#000000\", linewidth = 2)\n",
    "ax.set_aspect(1)\n",
    "ax.set_ylim([-6,6])"
   ]
  },
  {
   "cell_type": "markdown",
   "metadata": {},
   "source": [
    "Creates linear features and gets an accuracy of .9565 and we see a model that fits fairly well."
   ]
  },
  {
   "cell_type": "code",
   "execution_count": null,
   "metadata": {},
   "outputs": [],
   "source": []
  }
 ],
 "metadata": {
  "kernelspec": {
   "display_name": "Python 3",
   "language": "python",
   "name": "python3"
  },
  "language_info": {
   "codemirror_mode": {
    "name": "ipython",
    "version": 3
   },
   "file_extension": ".py",
   "mimetype": "text/x-python",
   "name": "python",
   "nbconvert_exporter": "python",
   "pygments_lexer": "ipython3",
   "version": "3.5.2"
  }
 },
 "nbformat": 4,
 "nbformat_minor": 2
}
