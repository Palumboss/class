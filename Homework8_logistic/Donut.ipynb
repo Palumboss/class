{
 "cells": [
  {
   "cell_type": "code",
   "execution_count": 1,
   "metadata": {},
   "outputs": [],
   "source": [
    "import numpy as np\n",
    "import matplotlib.pyplot as plt\n",
    "from mpl_toolkits.mplot3d.axes3d import Axes3D\n",
    "import pandas as pd\n",
    "import os\n",
    "%matplotlib inline"
   ]
  },
  {
   "cell_type": "code",
   "execution_count": 2,
   "metadata": {},
   "outputs": [
    {
     "data": {
      "text/html": [
       "<div>\n",
       "<style scoped>\n",
       "    .dataframe tbody tr th:only-of-type {\n",
       "        vertical-align: middle;\n",
       "    }\n",
       "\n",
       "    .dataframe tbody tr th {\n",
       "        vertical-align: top;\n",
       "    }\n",
       "\n",
       "    .dataframe thead th {\n",
       "        text-align: right;\n",
       "    }\n",
       "</style>\n",
       "<table border=\"1\" class=\"dataframe\">\n",
       "  <thead>\n",
       "    <tr style=\"text-align: right;\">\n",
       "      <th></th>\n",
       "      <th>0</th>\n",
       "      <th>1</th>\n",
       "      <th>2</th>\n",
       "    </tr>\n",
       "  </thead>\n",
       "  <tbody>\n",
       "    <tr>\n",
       "      <th>0</th>\n",
       "      <td>1.693347</td>\n",
       "      <td>-0.618121</td>\n",
       "      <td>0.0</td>\n",
       "    </tr>\n",
       "    <tr>\n",
       "      <th>1</th>\n",
       "      <td>0.294613</td>\n",
       "      <td>0.162370</td>\n",
       "      <td>0.0</td>\n",
       "    </tr>\n",
       "    <tr>\n",
       "      <th>2</th>\n",
       "      <td>0.806788</td>\n",
       "      <td>-0.114438</td>\n",
       "      <td>0.0</td>\n",
       "    </tr>\n",
       "    <tr>\n",
       "      <th>3</th>\n",
       "      <td>1.331376</td>\n",
       "      <td>-1.583038</td>\n",
       "      <td>0.0</td>\n",
       "    </tr>\n",
       "    <tr>\n",
       "      <th>4</th>\n",
       "      <td>0.229828</td>\n",
       "      <td>-0.381183</td>\n",
       "      <td>0.0</td>\n",
       "    </tr>\n",
       "    <tr>\n",
       "      <th>5</th>\n",
       "      <td>0.329167</td>\n",
       "      <td>0.914235</td>\n",
       "      <td>0.0</td>\n",
       "    </tr>\n",
       "    <tr>\n",
       "      <th>6</th>\n",
       "      <td>0.079453</td>\n",
       "      <td>-0.451633</td>\n",
       "      <td>0.0</td>\n",
       "    </tr>\n",
       "    <tr>\n",
       "      <th>7</th>\n",
       "      <td>1.236167</td>\n",
       "      <td>-0.998968</td>\n",
       "      <td>0.0</td>\n",
       "    </tr>\n",
       "    <tr>\n",
       "      <th>8</th>\n",
       "      <td>-0.848516</td>\n",
       "      <td>-0.903141</td>\n",
       "      <td>0.0</td>\n",
       "    </tr>\n",
       "    <tr>\n",
       "      <th>9</th>\n",
       "      <td>0.788228</td>\n",
       "      <td>0.648453</td>\n",
       "      <td>0.0</td>\n",
       "    </tr>\n",
       "    <tr>\n",
       "      <th>10</th>\n",
       "      <td>1.009788</td>\n",
       "      <td>-0.594765</td>\n",
       "      <td>0.0</td>\n",
       "    </tr>\n",
       "    <tr>\n",
       "      <th>11</th>\n",
       "      <td>1.459406</td>\n",
       "      <td>1.250443</td>\n",
       "      <td>0.0</td>\n",
       "    </tr>\n",
       "    <tr>\n",
       "      <th>12</th>\n",
       "      <td>3.289647</td>\n",
       "      <td>-0.390791</td>\n",
       "      <td>0.0</td>\n",
       "    </tr>\n",
       "    <tr>\n",
       "      <th>13</th>\n",
       "      <td>0.980651</td>\n",
       "      <td>0.534673</td>\n",
       "      <td>0.0</td>\n",
       "    </tr>\n",
       "    <tr>\n",
       "      <th>14</th>\n",
       "      <td>1.552460</td>\n",
       "      <td>-0.354223</td>\n",
       "      <td>0.0</td>\n",
       "    </tr>\n",
       "    <tr>\n",
       "      <th>15</th>\n",
       "      <td>3.321067</td>\n",
       "      <td>1.704827</td>\n",
       "      <td>0.0</td>\n",
       "    </tr>\n",
       "    <tr>\n",
       "      <th>16</th>\n",
       "      <td>-0.960659</td>\n",
       "      <td>-1.016840</td>\n",
       "      <td>0.0</td>\n",
       "    </tr>\n",
       "    <tr>\n",
       "      <th>17</th>\n",
       "      <td>0.044244</td>\n",
       "      <td>-0.519743</td>\n",
       "      <td>0.0</td>\n",
       "    </tr>\n",
       "    <tr>\n",
       "      <th>18</th>\n",
       "      <td>1.130564</td>\n",
       "      <td>0.863316</td>\n",
       "      <td>0.0</td>\n",
       "    </tr>\n",
       "    <tr>\n",
       "      <th>19</th>\n",
       "      <td>1.613314</td>\n",
       "      <td>-0.163657</td>\n",
       "      <td>0.0</td>\n",
       "    </tr>\n",
       "    <tr>\n",
       "      <th>20</th>\n",
       "      <td>2.023200</td>\n",
       "      <td>1.280809</td>\n",
       "      <td>0.0</td>\n",
       "    </tr>\n",
       "    <tr>\n",
       "      <th>21</th>\n",
       "      <td>-0.028566</td>\n",
       "      <td>0.092698</td>\n",
       "      <td>0.0</td>\n",
       "    </tr>\n",
       "    <tr>\n",
       "      <th>22</th>\n",
       "      <td>0.252221</td>\n",
       "      <td>0.656664</td>\n",
       "      <td>0.0</td>\n",
       "    </tr>\n",
       "    <tr>\n",
       "      <th>23</th>\n",
       "      <td>0.635423</td>\n",
       "      <td>-0.112544</td>\n",
       "      <td>0.0</td>\n",
       "    </tr>\n",
       "    <tr>\n",
       "      <th>24</th>\n",
       "      <td>1.642947</td>\n",
       "      <td>1.147956</td>\n",
       "      <td>0.0</td>\n",
       "    </tr>\n",
       "    <tr>\n",
       "      <th>25</th>\n",
       "      <td>2.425832</td>\n",
       "      <td>0.079396</td>\n",
       "      <td>0.0</td>\n",
       "    </tr>\n",
       "    <tr>\n",
       "      <th>26</th>\n",
       "      <td>-1.227514</td>\n",
       "      <td>-1.163476</td>\n",
       "      <td>0.0</td>\n",
       "    </tr>\n",
       "    <tr>\n",
       "      <th>27</th>\n",
       "      <td>1.698803</td>\n",
       "      <td>-0.454236</td>\n",
       "      <td>0.0</td>\n",
       "    </tr>\n",
       "    <tr>\n",
       "      <th>28</th>\n",
       "      <td>-0.610037</td>\n",
       "      <td>0.539702</td>\n",
       "      <td>0.0</td>\n",
       "    </tr>\n",
       "    <tr>\n",
       "      <th>29</th>\n",
       "      <td>1.148703</td>\n",
       "      <td>1.037535</td>\n",
       "      <td>0.0</td>\n",
       "    </tr>\n",
       "    <tr>\n",
       "      <th>...</th>\n",
       "      <td>...</td>\n",
       "      <td>...</td>\n",
       "      <td>...</td>\n",
       "    </tr>\n",
       "    <tr>\n",
       "      <th>3970</th>\n",
       "      <td>6.006990</td>\n",
       "      <td>-1.625584</td>\n",
       "      <td>1.0</td>\n",
       "    </tr>\n",
       "    <tr>\n",
       "      <th>3971</th>\n",
       "      <td>4.425927</td>\n",
       "      <td>-0.436584</td>\n",
       "      <td>1.0</td>\n",
       "    </tr>\n",
       "    <tr>\n",
       "      <th>3972</th>\n",
       "      <td>4.274530</td>\n",
       "      <td>-1.908172</td>\n",
       "      <td>1.0</td>\n",
       "    </tr>\n",
       "    <tr>\n",
       "      <th>3973</th>\n",
       "      <td>5.852637</td>\n",
       "      <td>-1.690308</td>\n",
       "      <td>1.0</td>\n",
       "    </tr>\n",
       "    <tr>\n",
       "      <th>3974</th>\n",
       "      <td>6.292293</td>\n",
       "      <td>-0.581171</td>\n",
       "      <td>1.0</td>\n",
       "    </tr>\n",
       "    <tr>\n",
       "      <th>3975</th>\n",
       "      <td>3.055267</td>\n",
       "      <td>-0.713936</td>\n",
       "      <td>1.0</td>\n",
       "    </tr>\n",
       "    <tr>\n",
       "      <th>3976</th>\n",
       "      <td>2.852169</td>\n",
       "      <td>0.344262</td>\n",
       "      <td>1.0</td>\n",
       "    </tr>\n",
       "    <tr>\n",
       "      <th>3977</th>\n",
       "      <td>5.018347</td>\n",
       "      <td>-1.818174</td>\n",
       "      <td>1.0</td>\n",
       "    </tr>\n",
       "    <tr>\n",
       "      <th>3978</th>\n",
       "      <td>5.421487</td>\n",
       "      <td>-1.578587</td>\n",
       "      <td>1.0</td>\n",
       "    </tr>\n",
       "    <tr>\n",
       "      <th>3979</th>\n",
       "      <td>5.223615</td>\n",
       "      <td>0.129632</td>\n",
       "      <td>1.0</td>\n",
       "    </tr>\n",
       "    <tr>\n",
       "      <th>3980</th>\n",
       "      <td>3.805526</td>\n",
       "      <td>0.904505</td>\n",
       "      <td>1.0</td>\n",
       "    </tr>\n",
       "    <tr>\n",
       "      <th>3981</th>\n",
       "      <td>3.721972</td>\n",
       "      <td>0.590822</td>\n",
       "      <td>1.0</td>\n",
       "    </tr>\n",
       "    <tr>\n",
       "      <th>3982</th>\n",
       "      <td>5.450197</td>\n",
       "      <td>1.192462</td>\n",
       "      <td>1.0</td>\n",
       "    </tr>\n",
       "    <tr>\n",
       "      <th>3983</th>\n",
       "      <td>5.868012</td>\n",
       "      <td>0.932084</td>\n",
       "      <td>1.0</td>\n",
       "    </tr>\n",
       "    <tr>\n",
       "      <th>3984</th>\n",
       "      <td>6.295135</td>\n",
       "      <td>0.441556</td>\n",
       "      <td>1.0</td>\n",
       "    </tr>\n",
       "    <tr>\n",
       "      <th>3985</th>\n",
       "      <td>4.545158</td>\n",
       "      <td>0.207739</td>\n",
       "      <td>1.0</td>\n",
       "    </tr>\n",
       "    <tr>\n",
       "      <th>3986</th>\n",
       "      <td>5.709933</td>\n",
       "      <td>0.342406</td>\n",
       "      <td>1.0</td>\n",
       "    </tr>\n",
       "    <tr>\n",
       "      <th>3987</th>\n",
       "      <td>5.067736</td>\n",
       "      <td>-0.986131</td>\n",
       "      <td>1.0</td>\n",
       "    </tr>\n",
       "    <tr>\n",
       "      <th>3988</th>\n",
       "      <td>4.622340</td>\n",
       "      <td>-0.088102</td>\n",
       "      <td>1.0</td>\n",
       "    </tr>\n",
       "    <tr>\n",
       "      <th>3989</th>\n",
       "      <td>6.032653</td>\n",
       "      <td>0.237241</td>\n",
       "      <td>1.0</td>\n",
       "    </tr>\n",
       "    <tr>\n",
       "      <th>3990</th>\n",
       "      <td>5.082156</td>\n",
       "      <td>0.183357</td>\n",
       "      <td>1.0</td>\n",
       "    </tr>\n",
       "    <tr>\n",
       "      <th>3991</th>\n",
       "      <td>6.021754</td>\n",
       "      <td>0.023342</td>\n",
       "      <td>1.0</td>\n",
       "    </tr>\n",
       "    <tr>\n",
       "      <th>3992</th>\n",
       "      <td>4.887938</td>\n",
       "      <td>0.913502</td>\n",
       "      <td>1.0</td>\n",
       "    </tr>\n",
       "    <tr>\n",
       "      <th>3993</th>\n",
       "      <td>6.472461</td>\n",
       "      <td>1.151445</td>\n",
       "      <td>1.0</td>\n",
       "    </tr>\n",
       "    <tr>\n",
       "      <th>3994</th>\n",
       "      <td>5.989903</td>\n",
       "      <td>1.021940</td>\n",
       "      <td>1.0</td>\n",
       "    </tr>\n",
       "    <tr>\n",
       "      <th>3995</th>\n",
       "      <td>5.985036</td>\n",
       "      <td>-1.023793</td>\n",
       "      <td>1.0</td>\n",
       "    </tr>\n",
       "    <tr>\n",
       "      <th>3996</th>\n",
       "      <td>4.182694</td>\n",
       "      <td>1.688980</td>\n",
       "      <td>1.0</td>\n",
       "    </tr>\n",
       "    <tr>\n",
       "      <th>3997</th>\n",
       "      <td>3.918908</td>\n",
       "      <td>0.649197</td>\n",
       "      <td>1.0</td>\n",
       "    </tr>\n",
       "    <tr>\n",
       "      <th>3998</th>\n",
       "      <td>5.798355</td>\n",
       "      <td>0.327063</td>\n",
       "      <td>1.0</td>\n",
       "    </tr>\n",
       "    <tr>\n",
       "      <th>3999</th>\n",
       "      <td>4.364118</td>\n",
       "      <td>0.098373</td>\n",
       "      <td>1.0</td>\n",
       "    </tr>\n",
       "  </tbody>\n",
       "</table>\n",
       "<p>4000 rows × 3 columns</p>\n",
       "</div>"
      ],
      "text/plain": [
       "             0         1    2\n",
       "0     1.693347 -0.618121  0.0\n",
       "1     0.294613  0.162370  0.0\n",
       "2     0.806788 -0.114438  0.0\n",
       "3     1.331376 -1.583038  0.0\n",
       "4     0.229828 -0.381183  0.0\n",
       "5     0.329167  0.914235  0.0\n",
       "6     0.079453 -0.451633  0.0\n",
       "7     1.236167 -0.998968  0.0\n",
       "8    -0.848516 -0.903141  0.0\n",
       "9     0.788228  0.648453  0.0\n",
       "10    1.009788 -0.594765  0.0\n",
       "11    1.459406  1.250443  0.0\n",
       "12    3.289647 -0.390791  0.0\n",
       "13    0.980651  0.534673  0.0\n",
       "14    1.552460 -0.354223  0.0\n",
       "15    3.321067  1.704827  0.0\n",
       "16   -0.960659 -1.016840  0.0\n",
       "17    0.044244 -0.519743  0.0\n",
       "18    1.130564  0.863316  0.0\n",
       "19    1.613314 -0.163657  0.0\n",
       "20    2.023200  1.280809  0.0\n",
       "21   -0.028566  0.092698  0.0\n",
       "22    0.252221  0.656664  0.0\n",
       "23    0.635423 -0.112544  0.0\n",
       "24    1.642947  1.147956  0.0\n",
       "25    2.425832  0.079396  0.0\n",
       "26   -1.227514 -1.163476  0.0\n",
       "27    1.698803 -0.454236  0.0\n",
       "28   -0.610037  0.539702  0.0\n",
       "29    1.148703  1.037535  0.0\n",
       "...        ...       ...  ...\n",
       "3970  6.006990 -1.625584  1.0\n",
       "3971  4.425927 -0.436584  1.0\n",
       "3972  4.274530 -1.908172  1.0\n",
       "3973  5.852637 -1.690308  1.0\n",
       "3974  6.292293 -0.581171  1.0\n",
       "3975  3.055267 -0.713936  1.0\n",
       "3976  2.852169  0.344262  1.0\n",
       "3977  5.018347 -1.818174  1.0\n",
       "3978  5.421487 -1.578587  1.0\n",
       "3979  5.223615  0.129632  1.0\n",
       "3980  3.805526  0.904505  1.0\n",
       "3981  3.721972  0.590822  1.0\n",
       "3982  5.450197  1.192462  1.0\n",
       "3983  5.868012  0.932084  1.0\n",
       "3984  6.295135  0.441556  1.0\n",
       "3985  4.545158  0.207739  1.0\n",
       "3986  5.709933  0.342406  1.0\n",
       "3987  5.067736 -0.986131  1.0\n",
       "3988  4.622340 -0.088102  1.0\n",
       "3989  6.032653  0.237241  1.0\n",
       "3990  5.082156  0.183357  1.0\n",
       "3991  6.021754  0.023342  1.0\n",
       "3992  4.887938  0.913502  1.0\n",
       "3993  6.472461  1.151445  1.0\n",
       "3994  5.989903  1.021940  1.0\n",
       "3995  5.985036 -1.023793  1.0\n",
       "3996  4.182694  1.688980  1.0\n",
       "3997  3.918908  0.649197  1.0\n",
       "3998  5.798355  0.327063  1.0\n",
       "3999  4.364118  0.098373  1.0\n",
       "\n",
       "[4000 rows x 3 columns]"
      ]
     },
     "execution_count": 2,
     "metadata": {},
     "output_type": "execute_result"
    }
   ],
   "source": [
    "data = pd.read_csv(\"/home/techfield/class/Homework8_logistic/donut.csv\",sep = \" \", header = None) \n",
    "data"
   ]
  },
  {
   "cell_type": "code",
   "execution_count": 3,
   "metadata": {},
   "outputs": [],
   "source": [
    "x = data.iloc[:,0]\n",
    "y = data.iloc[:,1]\n"
   ]
  },
  {
   "cell_type": "code",
   "execution_count": 4,
   "metadata": {},
   "outputs": [],
   "source": [
    "dist = np.sqrt(x**2+y**2)"
   ]
  },
  {
   "cell_type": "code",
   "execution_count": 5,
   "metadata": {},
   "outputs": [
    {
     "data": {
      "text/plain": [
       "array([[ 1.        ,  1.69334689, -0.61812147,  1.80263636],\n",
       "       [ 1.        ,  0.29461306,  0.16237049,  0.33639416],\n",
       "       [ 1.        ,  0.80678767, -0.1144376 ,  0.81486337],\n",
       "       ...,\n",
       "       [ 1.        ,  3.91890768,  0.64919683,  3.97231594],\n",
       "       [ 1.        ,  5.79835475,  0.32706275,  5.8075716 ],\n",
       "       [ 1.        ,  4.36411808,  0.09837302,  4.36522667]])"
      ]
     },
     "execution_count": 5,
     "metadata": {},
     "output_type": "execute_result"
    }
   ],
   "source": [
    "X = data.drop(2,axis = 1)\n",
    "X = np.column_stack((np.ones((4000,1)), X))\n",
    "X = np.column_stack((X,dist))\n",
    "y = data.iloc[:,2]\n",
    "X"
   ]
  },
  {
   "cell_type": "code",
   "execution_count": 6,
   "metadata": {},
   "outputs": [],
   "source": [
    "def sigmoid(h):\n",
    "    return 1/(1 + np.exp(-h))\n",
    "\n",
    "def cross_entropy(y, p_hat):\n",
    "    return -np.sum(y*np.log(p_hat) + (1 - y)*np.log(1 - p_hat))\n",
    "\n",
    "def accuracy(y, p_hat):\n",
    "    return np.mean(y == np.round(p_hat))"
   ]
  },
  {
   "cell_type": "code",
   "execution_count": 7,
   "metadata": {},
   "outputs": [
    {
     "name": "stderr",
     "output_type": "stream",
     "text": [
      "/home/techfield/.local/lib/python3.5/site-packages/ipykernel_launcher.py:5: RuntimeWarning: divide by zero encountered in log\n",
      "  \"\"\"\n"
     ]
    },
    {
     "data": {
      "text/plain": [
       "[<matplotlib.lines.Line2D at 0x7fd835b915c0>]"
      ]
     },
     "execution_count": 7,
     "metadata": {},
     "output_type": "execute_result"
    },
    {
     "data": {
      "image/png": "[encoded data removed]",
      "text/plain": [
       "<Figure size 432x288 with 1 Axes>"
      ]
     },
     "metadata": {
      "needs_background": "light"
     },
     "output_type": "display_data"
    }
   ],
   "source": [
    "w = np.random.randn(4)\n",
    "\n",
    "\n",
    "eta = 1e-3\n",
    "epochs = int(1e4)\n",
    "J = [0]*epochs\n",
    "\n",
    "for epoch in range(epochs):\n",
    "    p_hat = sigmoid(X.dot(w))\n",
    "    J[epoch] = cross_entropy(y, p_hat)\n",
    "    w -= eta*X.T.dot(p_hat - y)\n",
    "    \n",
    "plt.figure()\n",
    "plt.plot(J)"
   ]
  },
  {
   "cell_type": "code",
   "execution_count": 8,
   "metadata": {},
   "outputs": [
    {
     "name": "stdout",
     "output_type": "stream",
     "text": [
      "Accuracy: 0.9722\n"
     ]
    }
   ],
   "source": [
    "p_hat = sigmoid(X.dot(w))\n",
    "\n",
    "print(\"Accuracy: {:0.4f}\".format(accuracy(y,p_hat)))"
   ]
  },
  {
   "cell_type": "code",
   "execution_count": 9,
   "metadata": {},
   "outputs": [
    {
     "data": {
      "text/plain": [
       "array([-1.36010978e+01,  1.54499835e-01,  2.05411916e-03,  4.21429827e+00])"
      ]
     },
     "execution_count": 9,
     "metadata": {},
     "output_type": "execute_result"
    }
   ],
   "source": [
    "w"
   ]
  },
  {
   "cell_type": "markdown",
   "metadata": {},
   "source": [
    "I got an accuracy of .9722, so that was pretty good. Now I'm going to try an elipse."
   ]
  },
  {
   "cell_type": "code",
   "execution_count": 10,
   "metadata": {},
   "outputs": [],
   "source": [
    "y = data.iloc[:,2]"
   ]
  },
  {
   "cell_type": "code",
   "execution_count": 11,
   "metadata": {},
   "outputs": [],
   "source": [
    "X_2 = X[:,1]**2\n",
    "Y_2 = X[:,2]**2\n",
    "XY = X[:,1] * X[:,2]"
   ]
  },
  {
   "cell_type": "code",
   "execution_count": 12,
   "metadata": {},
   "outputs": [],
   "source": [
    "data1 = np.column_stack((np.ones((4000,1)), X_2,Y_2,XY))"
   ]
  },
  {
   "cell_type": "code",
   "execution_count": 13,
   "metadata": {},
   "outputs": [],
   "source": [
    "X = data1"
   ]
  },
  {
   "cell_type": "code",
   "execution_count": 14,
   "metadata": {},
   "outputs": [],
   "source": [
    "def sigmoid(h):\n",
    "    return 1/(1 + np.exp(-h))\n",
    "\n",
    "def cross_entropy(y, p_hat):\n",
    "    return -np.sum(y*np.log(p_hat) + (1 - y)*np.log(1 - p_hat))\n",
    "\n",
    "def accuracy(y, p_hat):\n",
    "    return np.mean(y == np.round(p_hat))"
   ]
  },
  {
   "cell_type": "code",
   "execution_count": 15,
   "metadata": {},
   "outputs": [
    {
     "name": "stderr",
     "output_type": "stream",
     "text": [
      "/home/techfield/.local/lib/python3.5/site-packages/ipykernel_launcher.py:5: RuntimeWarning: divide by zero encountered in log\n",
      "  \"\"\"\n"
     ]
    },
    {
     "data": {
      "text/plain": [
       "[<matplotlib.lines.Line2D at 0x7fd835b07f60>]"
      ]
     },
     "execution_count": 15,
     "metadata": {},
     "output_type": "execute_result"
    },
    {
     "data": {
      "image/png": "[encoded data removed]",
      "text/plain": [
       "<Figure size 432x288 with 1 Axes>"
      ]
     },
     "metadata": {
      "needs_background": "light"
     },
     "output_type": "display_data"
    }
   ],
   "source": [
    "w = np.random.randn(4)\n",
    "\n",
    "eta = 1e-3\n",
    "epochs = int(1e3)\n",
    "J = [0]*epochs\n",
    "\n",
    "for epoch in range(epochs):\n",
    "    p_hat = sigmoid(X.dot(w))\n",
    "    J[epoch] = cross_entropy(y, p_hat)\n",
    "    w -= eta*X.T.dot(p_hat - y)\n",
    "    \n",
    "plt.figure()\n",
    "plt.plot(J)"
   ]
  },
  {
   "cell_type": "code",
   "execution_count": 20,
   "metadata": {},
   "outputs": [
    {
     "data": {
      "text/plain": [
       "array([-14.47202808,   1.03982645,   1.14710281,  -0.05706677])"
      ]
     },
     "execution_count": 20,
     "metadata": {},
     "output_type": "execute_result"
    }
   ],
   "source": [
    "w"
   ]
  },
  {
   "cell_type": "code",
   "execution_count": 17,
   "metadata": {},
   "outputs": [
    {
     "name": "stdout",
     "output_type": "stream",
     "text": [
      "Accuracy: 0.9605\n"
     ]
    }
   ],
   "source": [
    "p_hat = sigmoid(X.dot(w))\n",
    "\n",
    "print(\"Accuracy: {:0.4f}\".format(accuracy(y,p_hat)))"
   ]
  },
  {
   "cell_type": "markdown",
   "metadata": {},
   "source": [
    "Now, i got a value of .9605 which is not as good, but it was done with the elipse instead of using the radius"
   ]
  }
 ],
 "metadata": {
  "kernelspec": {
   "display_name": "Python 3",
   "language": "python",
   "name": "python3"
  },
  "language_info": {
   "codemirror_mode": {
    "name": "ipython",
    "version": 3
   },
   "file_extension": ".py",
   "mimetype": "text/x-python",
   "name": "python",
   "nbconvert_exporter": "python",
   "pygments_lexer": "ipython3",
   "version": "3.5.2"
  }
 },
 "nbformat": 4,
 "nbformat_minor": 2
}
